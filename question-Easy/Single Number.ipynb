{
 "cells": [
  {
   "cell_type": "markdown",
   "metadata": {},
   "source": [
    "Problem Description\n",
    "Given an array of integers A, every element appears twice except for one. Find that integer that occurs once.\n",
    "\n",
    "NOTE: Your algorithm should have a linear runtime complexity. Could you implement it without using extra memory?"
   ]
  },
  {
   "cell_type": "code",
   "execution_count": 9,
   "metadata": {},
   "outputs": [
    {
     "name": "stdout",
     "output_type": "stream",
     "text": [
      "4\n"
     ]
    }
   ],
   "source": [
    "A = [1,2,3,4,3, 2,1]\n",
    "\n",
    "# Dictionary\n",
    "dA = {}\n",
    "for a in A:\n",
    "    if a in dA: dA[a] += 1\n",
    "    else: dA[a] = 1\n",
    "\n",
    "for key, value in dA.items():\n",
    "    if value == 1: print(key)"
   ]
  },
  {
   "cell_type": "code",
   "execution_count": 10,
   "metadata": {},
   "outputs": [
    {
     "name": "stdout",
     "output_type": "stream",
     "text": [
      "1 ^ 2 = 3\n",
      "3 ^ 3 = 0\n",
      "0 ^ 4 = 4\n",
      "4 ^ 3 = 7\n",
      "7 ^ 2 = 5\n",
      "5 ^ 1 = 4\n",
      "4\n"
     ]
    }
   ],
   "source": [
    "# Using XOR\n",
    "val = A[0]\n",
    "for i in range(1, len(A)):\n",
    "    print(val, \"^\", A[i], end=\" = \")\n",
    "    val = val^A[i]\n",
    "    print(val)\n",
    "\n",
    "print(val)"
   ]
  },
  {
   "cell_type": "code",
   "execution_count": 6,
   "metadata": {},
   "outputs": [
    {
     "data": {
      "text/plain": [
       "7"
      ]
     },
     "execution_count": 6,
     "metadata": {},
     "output_type": "execute_result"
    }
   ],
   "source": []
  },
  {
   "cell_type": "code",
   "execution_count": null,
   "metadata": {},
   "outputs": [],
   "source": []
  }
 ],
 "metadata": {
  "kernelspec": {
   "display_name": "Python 3.10.5 64-bit",
   "language": "python",
   "name": "python3"
  },
  "language_info": {
   "codemirror_mode": {
    "name": "ipython",
    "version": 3
   },
   "file_extension": ".py",
   "mimetype": "text/x-python",
   "name": "python",
   "nbconvert_exporter": "python",
   "pygments_lexer": "ipython3",
   "version": "3.10.5"
  },
  "orig_nbformat": 4,
  "vscode": {
   "interpreter": {
    "hash": "26f5c2960d8da0adf328a0625b5baa11b90d27b056bf00200c457e1accccaeb5"
   }
  }
 },
 "nbformat": 4,
 "nbformat_minor": 2
}
