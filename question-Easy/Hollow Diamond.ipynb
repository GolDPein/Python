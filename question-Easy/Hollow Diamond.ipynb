{
 "cells": [
  {
   "cell_type": "markdown",
   "metadata": {},
   "source": [
    "Write a program to input an integer N from user and print hollow diamond star pattern series of N lines.\n",
    "\n",
    "See example for clarifications over the pattern.\n",
    "\n",
    "Example: n = 4\n",
    "\n",
    "`********`            \n",
    "`***__***`           \n",
    "`**____**`           \n",
    "`*______*`             \n",
    "`*______*`             \n",
    "`**____**`            \n",
    "`***__***`             \n",
    "`********`            "
   ]
  },
  {
   "cell_type": "code",
   "execution_count": 8,
   "metadata": {},
   "outputs": [
    {
     "name": "stdout",
     "output_type": "stream",
     "text": [
      "********************\n",
      "*********  *********\n",
      "********    ********\n",
      "*******      *******\n",
      "******        ******\n",
      "*****          *****\n",
      "****            ****\n",
      "***              ***\n",
      "**                **\n",
      "*                  *\n",
      "*                  *\n",
      "**                **\n",
      "***              ***\n",
      "****            ****\n",
      "*****          *****\n",
      "******        ******\n",
      "*******      *******\n",
      "********    ********\n",
      "*********  *********\n",
      "********************\n"
     ]
    }
   ],
   "source": [
    "n = 10\n",
    "for i in range(n):\n",
    "    # Star - TL\n",
    "    for s in range(n-i, 0, -1):\n",
    "        print(\"*\", end=\"\")\n",
    "    # Space\n",
    "    for s in range(i*2):\n",
    "        print(\" \", end=\"\")\n",
    "    # Star - TR\n",
    "    for s in range(n-i, 0, -1):\n",
    "        print(\"*\", end=\"\")\n",
    "    \n",
    "    print()\n",
    "    \n",
    "for i in range(n):  \n",
    "    # Star - BL\n",
    "    for s in range(i+1):\n",
    "        print(\"*\", end=\"\")\n",
    "    # Space\n",
    "    for s in range((n-i-1)*2):\n",
    "        print(\" \", end=\"\")\n",
    "    for s in range(i+1):\n",
    "        print(\"*\", end=\"\")\n",
    "    print()"
   ]
  },
  {
   "cell_type": "code",
   "execution_count": null,
   "metadata": {},
   "outputs": [],
   "source": []
  }
 ],
 "metadata": {
  "kernelspec": {
   "display_name": "Python 3.10.5 64-bit",
   "language": "python",
   "name": "python3"
  },
  "language_info": {
   "codemirror_mode": {
    "name": "ipython",
    "version": 3
   },
   "file_extension": ".py",
   "mimetype": "text/x-python",
   "name": "python",
   "nbconvert_exporter": "python",
   "pygments_lexer": "ipython3",
   "version": "3.10.5"
  },
  "orig_nbformat": 4,
  "vscode": {
   "interpreter": {
    "hash": "26f5c2960d8da0adf328a0625b5baa11b90d27b056bf00200c457e1accccaeb5"
   }
  }
 },
 "nbformat": 4,
 "nbformat_minor": 2
}
