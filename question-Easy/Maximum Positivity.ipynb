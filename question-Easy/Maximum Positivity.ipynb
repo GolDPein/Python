{
 "cells": [
  {
   "cell_type": "markdown",
   "metadata": {},
   "source": [
    "Problem Description\n",
    "Given an array of integers A, of size N.\n",
    "\n",
    "Return the maximum size subarray of A having only non-negative elements. If there are more than one such subarray, return the one having the smallest starting index in A.\n"
   ]
  },
  {
   "cell_type": "code",
   "execution_count": 13,
   "metadata": {},
   "outputs": [
    {
     "name": "stdout",
     "output_type": "stream",
     "text": [
      "[]\n"
     ]
    }
   ],
   "source": [
    "# A = [5, 6, -1, 7, 8, -1, 1, 2, 3]\n",
    "A = [-1, -2, -3]\n",
    "\n",
    "idx = []\n",
    "start = 0\n",
    "count = 0\n",
    "maxCount = -1\n",
    "\n",
    "for i in range(len(A)):\n",
    "    if A[i] >= 0: count += 1\n",
    "    else:\n",
    "        if count > maxCount:\n",
    "            idx = [start, i-1]\n",
    "            maxCount = count\n",
    "        start = i+1\n",
    "        count = 0\n",
    "\n",
    "if count > maxCount: print(A[start:])\n",
    "else: print(A[idx[0]: idx[1]+1])"
   ]
  },
  {
   "cell_type": "code",
   "execution_count": null,
   "metadata": {},
   "outputs": [],
   "source": []
  }
 ],
 "metadata": {
  "kernelspec": {
   "display_name": "Python 3.10.5 64-bit",
   "language": "python",
   "name": "python3"
  },
  "language_info": {
   "codemirror_mode": {
    "name": "ipython",
    "version": 3
   },
   "file_extension": ".py",
   "mimetype": "text/x-python",
   "name": "python",
   "nbconvert_exporter": "python",
   "pygments_lexer": "ipython3",
   "version": "3.10.5"
  },
  "orig_nbformat": 4,
  "vscode": {
   "interpreter": {
    "hash": "26f5c2960d8da0adf328a0625b5baa11b90d27b056bf00200c457e1accccaeb5"
   }
  }
 },
 "nbformat": 4,
 "nbformat_minor": 2
}
