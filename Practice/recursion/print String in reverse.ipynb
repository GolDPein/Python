{
 "cells": [
  {
   "cell_type": "code",
   "execution_count": 8,
   "metadata": {},
   "outputs": [],
   "source": [
    "string = \"chbvjrxwppkbrqdcxcsswvarrxyxunusswxrrtemtmdlutzsjbvcnrhqxjkkxnkcfojsnpzioxtpkooybbksvnqpjkpomysfrfnepxkkmkhgwmxcgbgitrggmccurctbdrslkgaaaxfnvqzdxmkassmxihvjktswbgeoegrxemomxqyicgfyelxphelkvsatkhcwshqiaepyzctzbplcmaqrjvqlfaifmjurpuoreivpzusdefcknlteyqfbervigtvuwtwjaepkudrbzpnguqtkzeitpvgioaiwyjxavwxiewxldzmuamcwibudvrylrjrzxnoddduzyxthirsevuwngigcghbctzrnmairvtiupmoaykcqeqwdzuaeerafrderfenulodiublpejlwfapvskjkxtuylotldfanewqrozgvcwcwoeihvutgbamghcchmdgrkawmpqlrffibxxaswszvxhxidzezxqorpvseyokpcxouwttdekpgxqqklekangvhexrjtyyhfmwttqmaccczrrekmnnnmnuztgbgagggbgbikpcnkovffqhhguuqhcuyjosbftxnkzirlmadrwbjlqezyabdscixisgbyfwptcglzcxsxhxarnakofxavtfchscnpkneageuefoiiccojfewpmixbzjaawjzsvmmzltktdmfmdnzdbhafdmeydzmfhyuhgazgvsepvowxeakjecnocqhileaooammqxlngxdglrwtwmkauszkmtchbnfzbzmghssyzldochzmxqdqxqcwvgnpafoxujhhriznmopsopfwblycetggbmwrkzhsqjrnpmdtnybbjmcifsybvjkhnjndtmztnzfodvhcjmavervwbodvcbyibpgiyeemveqimejksrzhtladheckrqofnpwotufmqrwzaigtpfkpopfmumctpbjigfcuxppbvxcbtncfhyghwoldutjanpsdholekci\""
   ]
  },
  {
   "cell_type": "code",
   "execution_count": 11,
   "metadata": {},
   "outputs": [],
   "source": [
    "def printReverse(s):\n",
    "    if len(s) == 0: return\n",
    "    \n",
    "    print(s[len(s)-1], end=\"\")\n",
    "    return printReverse(s[:len(s)-1])"
   ]
  },
  {
   "cell_type": "code",
   "execution_count": 12,
   "metadata": {},
   "outputs": [
    {
     "name": "stdout",
     "output_type": "stream",
     "text": [
      "ickelohdspnajtudlowhgyhfcntbcxvbppxucfgijbptcmumfpopkfptgiazwrqmfutowpnfoqrkcehdalthzrskjemiqevmeeyigpbiybcvdobwvrevamjchvdofzntzmtdnjnhkjvbysficmjbbyntdmpnrjqshzkrwmbggtecylbwfpospomnzirhhjuxofapngvwcqxqdqxmzhcodlzysshgmzbzfnbhctmkzsuakmwtwrlgdxgnlxqmmaooaelihqconcejkaexwovpesvgzaghuyhfmzdyemdfahbdzndmfmdtktlzmmvszjwaajzbximpwefjocciiofeuegaenkpncshcftvaxfokanraxhxsxczlgctpwfybgsixicsdbayzeqljbwrdamlrizknxtfbsojyuchquughhqffvokncpkibgbgggagbgtzunmnnnmkerrzcccamqttwmfhyytjrxehvgnakelkqqxgpkedttwuoxcpkoyesvproqxzezdixhxvzswsaxxbiffrlqpmwakrgdmhcchgmabgtuvhieowcwcvgzorqwenafdltolyutxkjksvpafwljeplbuidolunefredrfareeauzdwqeqckyaompuitvriamnrztcbhgcgignwuvesrihtxyzudddonxzrjrlyrvdubiwcmaumzdlxweixwvaxjywiaoigvptiezktqugnpzbrdukpeajwtwuvtgivrebfqyetlnkcfedsuzpvierouprujmfiaflqvjrqamclpbztczypeaiqhswchktasvklehpxleyfgciyqxmomexrgeoegbwstkjvhixmssakmxdzqvnfxaaagklsrdbtcruccmggrtigbgcxmwghkmkkxpenfrfsymopkjpqnvskbbyookptxoizpnsjofcknxkkjxqhrncvbjsztuldmtmetrrxwssunuxyxrravwsscxcdqrbkppwxrjvbhc"
     ]
    }
   ],
   "source": [
    "printReverse(string)"
   ]
  },
  {
   "cell_type": "markdown",
   "metadata": {},
   "source": [
    "Another approach, reverse string in Recursion"
   ]
  },
  {
   "cell_type": "code",
   "execution_count": 16,
   "metadata": {},
   "outputs": [],
   "source": [
    "def reverseString(s, start, end):\n",
    "    if start > end: return \"\".join(s)\n",
    "    \n",
    "    s[start], s[end] = s[end], s[start]\n",
    "    return reverseString(s, start+1, end-1)"
   ]
  },
  {
   "cell_type": "code",
   "execution_count": 18,
   "metadata": {},
   "outputs": [
    {
     "data": {
      "text/plain": [
       "'ickelohdspnajtudlowhgyhfcntbcxvbppxucfgijbptcmumfpopkfptgiazwrqmfutowpnfoqrkcehdalthzrskjemiqevmeeyigpbiybcvdobwvrevamjchvdofzntzmtdnjnhkjvbysficmjbbyntdmpnrjqshzkrwmbggtecylbwfpospomnzirhhjuxofapngvwcqxqdqxmzhcodlzysshgmzbzfnbhctmkzsuakmwtwrlgdxgnlxqmmaooaelihqconcejkaexwovpesvgzaghuyhfmzdyemdfahbdzndmfmdtktlzmmvszjwaajzbximpwefjocciiofeuegaenkpncshcftvaxfokanraxhxsxczlgctpwfybgsixicsdbayzeqljbwrdamlrizknxtfbsojyuchquughhqffvokncpkibgbgggagbgtzunmnnnmkerrzcccamqttwmfhyytjrxehvgnakelkqqxgpkedttwuoxcpkoyesvproqxzezdixhxvzswsaxxbiffrlqpmwakrgdmhcchgmabgtuvhieowcwcvgzorqwenafdltolyutxkjksvpafwljeplbuidolunefredrfareeauzdwqeqckyaompuitvriamnrztcbhgcgignwuvesrihtxyzudddonxzrjrlyrvdubiwcmaumzdlxweixwvaxjywiaoigvptiezktqugnpzbrdukpeajwtwuvtgivrebfqyetlnkcfedsuzpvierouprujmfiaflqvjrqamclpbztczypeaiqhswchktasvklehpxleyfgciyqxmomexrgeoegbwstkjvhixmssakmxdzqvnfxaaagklsrdbtcruccmggrtigbgcxmwghkmkkxpenfrfsymopkjpqnvskbbyookptxoizpnsjofcknxkkjxqhrncvbjsztuldmtmetrrxwssunuxyxrravwsscxcdqrbkppwxrjvbhc'"
      ]
     },
     "execution_count": 18,
     "metadata": {},
     "output_type": "execute_result"
    }
   ],
   "source": [
    "reverseString(list(string), 0, len(string)-1)"
   ]
  },
  {
   "cell_type": "code",
   "execution_count": null,
   "metadata": {},
   "outputs": [],
   "source": []
  }
 ],
 "metadata": {
  "kernelspec": {
   "display_name": "Python 3.10.5 64-bit",
   "language": "python",
   "name": "python3"
  },
  "language_info": {
   "codemirror_mode": {
    "name": "ipython",
    "version": 3
   },
   "file_extension": ".py",
   "mimetype": "text/x-python",
   "name": "python",
   "nbconvert_exporter": "python",
   "pygments_lexer": "ipython3",
   "version": "3.10.5"
  },
  "orig_nbformat": 4,
  "vscode": {
   "interpreter": {
    "hash": "26f5c2960d8da0adf328a0625b5baa11b90d27b056bf00200c457e1accccaeb5"
   }
  }
 },
 "nbformat": 4,
 "nbformat_minor": 2
}
