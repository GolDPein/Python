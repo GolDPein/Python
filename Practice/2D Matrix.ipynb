{
 "cells": [
  {
   "cell_type": "code",
   "execution_count": 3,
   "metadata": {},
   "outputs": [
    {
     "name": "stdout",
     "output_type": "stream",
     "text": [
      "22\n",
      "12\n",
      "42\n"
     ]
    }
   ],
   "source": [
    "# print row wise sum\n",
    "arr = [ [3, 8, 9, 2],\n",
    "        [1, 2, 3, 6],\n",
    "        [4, 10, 11, 17]]\n",
    "\n",
    "for i in range(len(arr)):\n",
    "    lsum = 0\n",
    "    for j in range(len(arr[i])):\n",
    "        lsum += arr[i][j]\n",
    "    print(lsum)"
   ]
  },
  {
   "cell_type": "code",
   "execution_count": 4,
   "metadata": {},
   "outputs": [
    {
     "name": "stdout",
     "output_type": "stream",
     "text": [
      "25\n"
     ]
    }
   ],
   "source": [
    "# given a matrix find max column sum\n",
    "import sys\n",
    "arr = [ [3, 8, 9, 2],\n",
    "        [1, 2, 3, 6],\n",
    "        [4, 10, 11, 17]]\n",
    "\n",
    "msum = sys.maxsize * -1\n",
    "for j in range(len(arr[0])):\n",
    "    lsum = 0\n",
    "    for i in range(len(arr)):\n",
    "        lsum += arr[i][j]\n",
    "    msum = max(msum, lsum)\n",
    "\n",
    "print(msum)"
   ]
  },
  {
   "cell_type": "code",
   "execution_count": 7,
   "metadata": {},
   "outputs": [
    {
     "name": "stdout",
     "output_type": "stream",
     "text": [
      "3 2 11 4 \n",
      "2 3 10 3 "
     ]
    }
   ],
   "source": [
    "# given NxN array, print the diagonals\n",
    "\n",
    "arr = [ [3, 8, 9, 2],\n",
    "        [1, 2, 3, 6],\n",
    "        [4, 10, 11, 17],\n",
    "        [3, 8, 1, 4]]\n",
    "\n",
    "# i==j diagonal (top left to bottom right)\n",
    "for i in range(len(arr)):\n",
    "    print(arr[i][i], end=\" \")\n",
    "\n",
    "print()\n",
    "    \n",
    "# diagonal top right to bottom left\n",
    "i = 0\n",
    "j = len(arr[i]) - 1\n",
    "while j >= 0:\n",
    "    print(arr[i][j], end=\" \")\n",
    "    i += 1\n",
    "    j -= 1"
   ]
  },
  {
   "cell_type": "code",
   "execution_count": 18,
   "metadata": {},
   "outputs": [
    {
     "name": "stdout",
     "output_type": "stream",
     "text": [
      "3 \n",
      "8 1 \n",
      "9 2 4 \n",
      "2 3 10 3 \n",
      "1 6 11 8 \n",
      "3 17 1 \n",
      "5 4 \n",
      "9 \n"
     ]
    }
   ],
   "source": [
    "# given N x M matrix, print all the diagonals\n",
    "arr = [ [3, 8, 9, 2, 1],\n",
    "        [1, 2, 3, 6, 3],\n",
    "        [4, 10, 11, 17, 5],\n",
    "        [3, 8, 1, 4, 9]]\n",
    "\n",
    "n = len(arr)\n",
    "m = len(arr[0])\n",
    "\n",
    "for k in range(m-1):\n",
    "    j = k\n",
    "    for i in range(j+1):\n",
    "        print(arr[i][j], end=\" \")\n",
    "        j -= 1\n",
    "    print()\n",
    "\n",
    "for i in range(n):\n",
    "    k = i\n",
    "    j = m - 1\n",
    "    while k <= n-1:\n",
    "        print(arr[k][j], end=\" \")\n",
    "        k += 1\n",
    "        j -= 1\n",
    "    print()\n",
    "        "
   ]
  },
  {
   "cell_type": "code",
   "execution_count": 19,
   "metadata": {},
   "outputs": [
    {
     "name": "stdout",
     "output_type": "stream",
     "text": [
      "[3, 1, 4, 3]\n",
      "[8, 2, 10, 8]\n",
      "[9, 3, 11, 1]\n",
      "[2, 6, 17, 4]\n"
     ]
    }
   ],
   "source": [
    "# transpose N x N mtraix, no additional space to be used\n",
    "arr = [ [3, 8, 9, 2],\n",
    "        [1, 2, 3, 6],\n",
    "        [4, 10, 11, 17],\n",
    "        [3, 8, 1, 4]]\n",
    "\n",
    "for i in range(1, len(arr)):\n",
    "    for j in range(0, i):\n",
    "        arr[i][j], arr[j][i] = arr[j][i], arr[i][j]\n",
    "\n",
    "for row in arr:\n",
    "    print(row)"
   ]
  },
  {
   "cell_type": "code",
   "execution_count": 25,
   "metadata": {},
   "outputs": [
    {
     "name": "stdout",
     "output_type": "stream",
     "text": [
      "[3, 1, 4, 3]\n",
      "[8, 2, 10, 8]\n",
      "[9, 3, 11, 1]\n",
      "[2, 6, 17, 4]\n",
      "-------\n",
      "[3, 4, 1, 3]\n",
      "[8, 10, 2, 8]\n",
      "[1, 11, 3, 9]\n",
      "[4, 17, 6, 2]\n"
     ]
    }
   ],
   "source": [
    "# Rotate N x N matrix 90Degree\n",
    "\n",
    "arr = [ [3, 8, 9, 2],\n",
    "        [1, 2, 3, 6],\n",
    "        [4, 10, 11, 17],\n",
    "        [3, 8, 1, 4]]\n",
    "\n",
    "for i in range(1, len(arr)):\n",
    "    for j in range(0, i):\n",
    "        arr[i][j], arr[j][i] = arr[j][i], arr[i][j]\n",
    "\n",
    "for i in range(len(arr)):\n",
    "    start = 0\n",
    "    end = len(arr[i]) - 1\n",
    "    while start < end:\n",
    "        arr[i][start], arr[i][end] = arr[i][end], arr[i][start]\n",
    "        start += 1\n",
    "        end -= 1\n",
    "\n",
    "for row in arr:\n",
    "    print(row)"
   ]
  },
  {
   "cell_type": "code",
   "execution_count": 29,
   "metadata": {},
   "outputs": [
    {
     "name": "stdout",
     "output_type": "stream",
     "text": [
      "[[0, 0, 0, 0], [0, 0, 0, 0]]\n"
     ]
    }
   ],
   "source": [
    "# Matrix Multiplication\n",
    "a = [ [3, 8, 9],\n",
    "        [1, 2, 3]]\n",
    "\n",
    "b = [ [1, 3, 5, -2],\n",
    "        [1, 2, -2, 6],\n",
    "        [4, -5, 6, 1]]\n",
    "\n",
    "n = len(a)\n",
    "p = len(b)\n",
    "m = len(b[0])\n",
    "ab = []\n",
    "for i in range(n):\n",
    "        ab.append([0]*m)\n",
    "print(ab)"
   ]
  },
  {
   "cell_type": "code",
   "execution_count": 30,
   "metadata": {},
   "outputs": [
    {
     "name": "stdout",
     "output_type": "stream",
     "text": [
      "[[47, -20, 53, 51], [15, -8, 19, 13]]\n"
     ]
    }
   ],
   "source": [
    "for i in range(n):\n",
    "    for j in range(m):\n",
    "        for k in range(p):\n",
    "            ab[i][j] += a[i][k]*b[k][j]\n",
    "\n",
    "print(ab)"
   ]
  },
  {
   "cell_type": "code",
   "execution_count": 28,
   "metadata": {},
   "outputs": [
    {
     "name": "stdout",
     "output_type": "stream",
     "text": [
      "[[62, 100, 72, 64], [62, 100, 72, 64]]\n"
     ]
    }
   ],
   "source": []
  },
  {
   "cell_type": "code",
   "execution_count": null,
   "metadata": {},
   "outputs": [],
   "source": []
  }
 ],
 "metadata": {
  "kernelspec": {
   "display_name": "Python 3.10.5 64-bit",
   "language": "python",
   "name": "python3"
  },
  "language_info": {
   "codemirror_mode": {
    "name": "ipython",
    "version": 3
   },
   "file_extension": ".py",
   "mimetype": "text/x-python",
   "name": "python",
   "nbconvert_exporter": "python",
   "pygments_lexer": "ipython3",
   "version": "3.10.5"
  },
  "orig_nbformat": 4,
  "vscode": {
   "interpreter": {
    "hash": "26f5c2960d8da0adf328a0625b5baa11b90d27b056bf00200c457e1accccaeb5"
   }
  }
 },
 "nbformat": 4,
 "nbformat_minor": 2
}
