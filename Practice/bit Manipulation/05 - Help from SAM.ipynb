{
 "cells": [
  {
   "cell_type": "markdown",
   "metadata": {},
   "source": [
    "Alex and Sam are good friends. Alex is doing a lot of programming these days. He has set a target score of A for himself.          \n",
    "Initially, Alex's score was zero. Alex can double his score by doing a question, or Alex can seek help from Sam for doing questions that will contribute 1 to Alex's score. Alex wants his score to be precisely A. Also, he does not want to take much help from Sam.\n",
    "\n",
    "Find and return the minimum number of times Alex needs to take help from Sam to achieve a score of A.\n",
    "\n",
    "I/P = 5           \n",
    "O/P = 2           \n",
    "Initial score : 0          \n",
    "Takes help from Sam, score : 1             \n",
    "Alex solves a question, score : 2          \n",
    "Alex solves a question, score : 4          \n",
    "Takes help from Sam, score: 5          "
   ]
  },
  {
   "cell_type": "code",
   "execution_count": 2,
   "metadata": {},
   "outputs": [
    {
     "name": "stdout",
     "output_type": "stream",
     "text": [
      "2\n"
     ]
    }
   ],
   "source": [
    "n = 5\n",
    "count = 0\n",
    "\n",
    "while n > 0:\n",
    "    if n&1 == 1: count += 1\n",
    "    n = n>>1\n",
    "\n",
    "print(count) "
   ]
  },
  {
   "cell_type": "code",
   "execution_count": null,
   "metadata": {},
   "outputs": [],
   "source": []
  }
 ],
 "metadata": {
  "kernelspec": {
   "display_name": "Python 3.10.5 64-bit",
   "language": "python",
   "name": "python3"
  },
  "language_info": {
   "codemirror_mode": {
    "name": "ipython",
    "version": 3
   },
   "file_extension": ".py",
   "mimetype": "text/x-python",
   "name": "python",
   "nbconvert_exporter": "python",
   "pygments_lexer": "ipython3",
   "version": "3.10.5"
  },
  "orig_nbformat": 4,
  "vscode": {
   "interpreter": {
    "hash": "26f5c2960d8da0adf328a0625b5baa11b90d27b056bf00200c457e1accccaeb5"
   }
  }
 },
 "nbformat": 4,
 "nbformat_minor": 2
}
