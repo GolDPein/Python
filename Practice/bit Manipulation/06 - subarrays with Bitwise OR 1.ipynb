{
 "cells": [
  {
   "cell_type": "markdown",
   "metadata": {},
   "source": [
    "Given an array B of length A with elements 1 or 0. Find the number of subarrays with bitwise OR 1.\n",
    "\n",
    "A = 3         \n",
    "B = [1, 0, 1]           \n",
    "The subarrays are :- [1], [0], [1], [1, 0], [0, 1], [1, 0, 1]         \n",
    "Except the subarray [0] all the other subarrays has a Bitwise OR = 1      "
   ]
  },
  {
   "cell_type": "code",
   "execution_count": 11,
   "metadata": {},
   "outputs": [
    {
     "name": "stdout",
     "output_type": "stream",
     "text": [
      "13\n"
     ]
    }
   ],
   "source": [
    "A = 5\n",
    "B = [0, 1, 1, 0, 1]\n",
    "\n",
    "zeros = B.count(0)\n",
    "totalSubArrays = len(B) * (len(B)+1) // 2\n",
    "count = totalSubArrays - zeros\n",
    "# for i in range(len(B)-1, -1, -1):\n",
    "#     print(ones)\n",
    "#     ones += 1\n",
    "#     if B[i] == 0: count += ones\n",
    "\n",
    "# count += ones\n",
    "print(count)"
   ]
  },
  {
   "cell_type": "code",
   "execution_count": null,
   "metadata": {},
   "outputs": [],
   "source": []
  }
 ],
 "metadata": {
  "kernelspec": {
   "display_name": "Python 3.10.5 64-bit",
   "language": "python",
   "name": "python3"
  },
  "language_info": {
   "codemirror_mode": {
    "name": "ipython",
    "version": 3
   },
   "file_extension": ".py",
   "mimetype": "text/x-python",
   "name": "python",
   "nbconvert_exporter": "python",
   "pygments_lexer": "ipython3",
   "version": "3.10.5"
  },
  "orig_nbformat": 4,
  "vscode": {
   "interpreter": {
    "hash": "26f5c2960d8da0adf328a0625b5baa11b90d27b056bf00200c457e1accccaeb5"
   }
  }
 },
 "nbformat": 4,
 "nbformat_minor": 2
}
