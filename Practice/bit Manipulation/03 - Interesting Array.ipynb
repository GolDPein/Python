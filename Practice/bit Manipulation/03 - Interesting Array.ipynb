{
 "cells": [
  {
   "cell_type": "markdown",
   "metadata": {},
   "source": [
    "#### Interesting Array\n",
    "##### Problem Description\n",
    "You have an array A with N elements. We have two types of operation available on this array :          \n",
    "* We can split an element B into two elements, C and D, such that B = C + D.\n",
    "* We can merge two elements, P and Q, to one element, R, such that R = P ^ Q i.e., XOR of P and Q.\n",
    "\n",
    "\n",
    "You have to determine whether it is possible to convert array A to size 1, containing a single element equal to 0 after several splits and/or merge?"
   ]
  },
  {
   "cell_type": "code",
   "execution_count": null,
   "metadata": {},
   "outputs": [],
   "source": [
    "A = [1, 2, 3, 4]\n",
    "\n",
    "sA = sum(A)\n",
    "if sA & 1 == 0: print \"Yes\"\n",
    "else: print \"No\""
   ]
  }
 ],
 "metadata": {
  "kernelspec": {
   "display_name": "Python 3.10.5 64-bit",
   "language": "python",
   "name": "python3"
  },
  "language_info": {
   "name": "python",
   "version": "3.10.5"
  },
  "orig_nbformat": 4,
  "vscode": {
   "interpreter": {
    "hash": "26f5c2960d8da0adf328a0625b5baa11b90d27b056bf00200c457e1accccaeb5"
   }
  }
 },
 "nbformat": 4,
 "nbformat_minor": 2
}
