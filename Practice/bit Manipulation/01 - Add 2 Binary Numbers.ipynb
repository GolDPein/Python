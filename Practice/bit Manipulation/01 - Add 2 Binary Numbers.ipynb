{
 "cells": [
  {
   "cell_type": "code",
   "execution_count": 1,
   "metadata": {},
   "outputs": [
    {
     "name": "stdout",
     "output_type": "stream",
     "text": [
      "0b11001 0b100011\n"
     ]
    }
   ],
   "source": [
    "# Add 2 Binary Numbers\n",
    "n = bin(25)\n",
    "m = bin(35)\n",
    "\n",
    "print(n, m)"
   ]
  },
  {
   "cell_type": "code",
   "execution_count": 2,
   "metadata": {},
   "outputs": [
    {
     "name": "stdout",
     "output_type": "stream",
     "text": [
      "11001 100011\n"
     ]
    }
   ],
   "source": [
    "n = n.split('b')[1]\n",
    "m = m.split('b')[1]\n",
    "\n",
    "print(n, m)"
   ]
  },
  {
   "cell_type": "code",
   "execution_count": 3,
   "metadata": {},
   "outputs": [
    {
     "name": "stdout",
     "output_type": "stream",
     "text": [
      "011001 100011\n"
     ]
    }
   ],
   "source": [
    "if len(n) > len(m): m = '0'*(len(n)-len(m)) + m\n",
    "else: n = '0'*(len(m)-len(n)) + n\n",
    "\n",
    "print(n, m)"
   ]
  },
  {
   "cell_type": "code",
   "execution_count": 9,
   "metadata": {},
   "outputs": [
    {
     "data": {
      "text/plain": [
       "60"
      ]
     },
     "execution_count": 9,
     "metadata": {},
     "output_type": "execute_result"
    }
   ],
   "source": [
    "carry = 0\n",
    "val = 0\n",
    "nm = ''\n",
    "\n",
    "for i in range(len(n)-1, -1, -1):\n",
    "    # print(\"n-> % + m-> %\"%(n[i], m[i]))\n",
    "    val = int(n[i]) + int(m[i]) + carry\n",
    "    carry = val // 2\n",
    "    val = val % 2\n",
    "    nm = str(val) + nm\n",
    "\n",
    "int(nm, 2)"
   ]
  },
  {
   "cell_type": "code",
   "execution_count": null,
   "metadata": {},
   "outputs": [],
   "source": []
  }
 ],
 "metadata": {
  "kernelspec": {
   "display_name": "Python 3.10.5 64-bit",
   "language": "python",
   "name": "python3"
  },
  "language_info": {
   "codemirror_mode": {
    "name": "ipython",
    "version": 3
   },
   "file_extension": ".py",
   "mimetype": "text/x-python",
   "name": "python",
   "nbconvert_exporter": "python",
   "pygments_lexer": "ipython3",
   "version": "3.10.5"
  },
  "orig_nbformat": 4,
  "vscode": {
   "interpreter": {
    "hash": "26f5c2960d8da0adf328a0625b5baa11b90d27b056bf00200c457e1accccaeb5"
   }
  }
 },
 "nbformat": 4,
 "nbformat_minor": 2
}
