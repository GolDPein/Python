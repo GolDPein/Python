{
 "cells": [
  {
   "cell_type": "code",
   "execution_count": 1,
   "metadata": {},
   "outputs": [
    {
     "data": {
      "text/plain": [
       "0"
      ]
     },
     "execution_count": 1,
     "metadata": {},
     "output_type": "execute_result"
    }
   ],
   "source": [
    "# Given N and i, check if ith bit in N is set or not?\n",
    "n = 26\n",
    "i = 2\n",
    "\n",
    "n>>i & 1"
   ]
  },
  {
   "cell_type": "code",
   "execution_count": 9,
   "metadata": {},
   "outputs": [
    {
     "name": "stdout",
     "output_type": "stream",
     "text": [
      "4\n",
      "30\n",
      "30\n"
     ]
    }
   ],
   "source": [
    "# Given N, set the ith bit in N, if it is already set, then dont make any changes\n",
    "n = 26\n",
    "i = 2\n",
    "\n",
    "# to set nith bit 1 means set 2^i\n",
    "print(1 << i)\n",
    "\n",
    "# set ith bit 1, means if its 0 then it becomes 1\n",
    "print(n | 1<<i)\n",
    "\n",
    "print(n + (1<<i))"
   ]
  },
  {
   "cell_type": "code",
   "execution_count": 13,
   "metadata": {},
   "outputs": [
    {
     "name": "stdout",
     "output_type": "stream",
     "text": [
      "4\n",
      "8\n"
     ]
    }
   ],
   "source": [
    "# Given 0, set xth & yth bit\n",
    "\n",
    "x=2\n",
    "y=2\n",
    "\n",
    "# Correct Solution\n",
    "print(0 | (1<<x) | (1<<y))\n",
    "\n",
    "# Incorrect Solution\n",
    "print( (1<<x)+ (1<<y))"
   ]
  },
  {
   "cell_type": "code",
   "execution_count": 16,
   "metadata": {},
   "outputs": [
    {
     "data": {
      "text/plain": [
       "80"
      ]
     },
     "execution_count": 16,
     "metadata": {},
     "output_type": "execute_result"
    }
   ],
   "source": [
    "# Unset x bit from right\n",
    "n = 93\n",
    "b = 4\n",
    "\n",
    "# shift right to get rid of 1's and then shift back left to add 0's\n",
    "(n >> b) << b"
   ]
  },
  {
   "cell_type": "code",
   "execution_count": 21,
   "metadata": {},
   "outputs": [
    {
     "name": "stdout",
     "output_type": "stream",
     "text": [
      "1\n",
      "3\n",
      "[1, 3, 5]\n",
      "1\n",
      "7\n",
      "[1, 1, 7]\n"
     ]
    }
   ],
   "source": [
    "x = [1,3,5]\n",
    "\n",
    "for i in range(len(x)-1):\n",
    "    a = x[i] & x[i+1]\n",
    "    print(a)\n",
    "    b = x[i] | x[i+1]\n",
    "    print(b)\n",
    "    x[i] = a\n",
    "    x[i+1] = b\n",
    "    print(x)"
   ]
  },
  {
   "cell_type": "code",
   "execution_count": 20,
   "metadata": {},
   "outputs": [
    {
     "name": "stdout",
     "output_type": "stream",
     "text": [
      "5\n"
     ]
    }
   ],
   "source": [
    "x = [1,3,7]\n",
    "ans = 0\n",
    "for i in range(len(x)):\n",
    "    ans ^= x[i]\n",
    "    \n",
    "print(ans)"
   ]
  },
  {
   "cell_type": "code",
   "execution_count": 31,
   "metadata": {},
   "outputs": [
    {
     "data": {
      "text/plain": [
       "28"
      ]
     },
     "execution_count": 31,
     "metadata": {},
     "output_type": "execute_result"
    }
   ],
   "source": [
    "# x set bits and y unset bits\n",
    "x = 3\n",
    "y = 2\n",
    "\n",
    "xy = 1\n",
    "for i in range(x-1):\n",
    "    xy = xy << 1 | 1\n",
    "\n",
    "xy<<y"
   ]
  },
  {
   "cell_type": "code",
   "execution_count": 47,
   "metadata": {},
   "outputs": [
    {
     "name": "stdout",
     "output_type": "stream",
     "text": [
      "16\n",
      "24\n",
      "28\n",
      "0b11100\n"
     ]
    }
   ],
   "source": [
    "# x set bits and y unset bits\n",
    "x = 3\n",
    "y = 2\n",
    "\n",
    "xy = 0\n",
    "while x > 0:\n",
    "    xy += 1 << (x+y-1)\n",
    "    x -= 1\n",
    "    print(xy)\n",
    "    \n",
    "print(bin(xy))\n",
    "# xy<<y"
   ]
  },
  {
   "cell_type": "code",
   "execution_count": 51,
   "metadata": {},
   "outputs": [
    {
     "data": {
      "text/plain": [
       "28"
      ]
     },
     "execution_count": 51,
     "metadata": {},
     "output_type": "execute_result"
    }
   ],
   "source": [
    "# Another way\n",
    "x = 3\n",
    "y = 2\n",
    "( (1<<x) -1 )<<y"
   ]
  },
  {
   "cell_type": "code",
   "execution_count": 44,
   "metadata": {},
   "outputs": [
    {
     "data": {
      "text/plain": [
       "2"
      ]
     },
     "execution_count": 44,
     "metadata": {},
     "output_type": "execute_result"
    }
   ],
   "source": [
    "0 | 1<<1"
   ]
  },
  {
   "cell_type": "code",
   "execution_count": null,
   "metadata": {},
   "outputs": [],
   "source": []
  }
 ],
 "metadata": {
  "kernelspec": {
   "display_name": "Python 3.10.5 64-bit",
   "language": "python",
   "name": "python3"
  },
  "language_info": {
   "codemirror_mode": {
    "name": "ipython",
    "version": 3
   },
   "file_extension": ".py",
   "mimetype": "text/x-python",
   "name": "python",
   "nbconvert_exporter": "python",
   "pygments_lexer": "ipython3",
   "version": "3.10.5"
  },
  "orig_nbformat": 4,
  "vscode": {
   "interpreter": {
    "hash": "26f5c2960d8da0adf328a0625b5baa11b90d27b056bf00200c457e1accccaeb5"
   }
  }
 },
 "nbformat": 4,
 "nbformat_minor": 2
}
