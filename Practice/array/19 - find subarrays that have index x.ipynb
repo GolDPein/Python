{
 "cells": [
  {
   "cell_type": "code",
   "execution_count": null,
   "metadata": {},
   "outputs": [],
   "source": [
    "# How many subarrays contains idx 3 in the given array?\n",
    "\n",
    "arr = [3, -2, 4, -1, 2, 6]\n"
   ]
  }
 ],
 "metadata": {
  "language_info": {
   "name": "python"
  },
  "orig_nbformat": 4
 },
 "nbformat": 4,
 "nbformat_minor": 2
}
