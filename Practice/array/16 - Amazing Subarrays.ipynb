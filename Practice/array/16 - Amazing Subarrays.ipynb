{
 "cells": [
  {
   "cell_type": "markdown",
   "metadata": {},
   "source": [
    "You are given a string S, and you have to find all the amazing substrings of S.\n",
    "\n",
    "An amazing Substring is one that starts with a vowel (a, e, i, o, u, A, E, I, O, U).\n",
    "\n",
    "Input           \n",
    "Only argument given is string S.\n",
    "\n",
    "Output             \n",
    "Return a single integer X mod 10003, here X is the number of Amazing Substrings in given the string.\n",
    "\n",
    "Constraints             \n",
    "1 <= length(S) <= 1e6\n",
    "S can have special characters"
   ]
  },
  {
   "cell_type": "code",
   "execution_count": 1,
   "metadata": {},
   "outputs": [],
   "source": [
    "s = \"ABeCiQkPxuOaMlU\"\n",
    "# O/p = 55"
   ]
  },
  {
   "cell_type": "code",
   "execution_count": 10,
   "metadata": {},
   "outputs": [
    {
     "name": "stdout",
     "output_type": "stream",
     "text": [
      "55\n"
     ]
    }
   ],
   "source": [
    "count = 0\n",
    "ans = 0\n",
    "vowel = \"aeiouAEIOU\"\n",
    "\n",
    "for i in range(len(s)-1, -1, -1):\n",
    "    count += 1\n",
    "    if s[i] in vowel: ans += count\n",
    "\n",
    "print(ans)"
   ]
  },
  {
   "cell_type": "code",
   "execution_count": null,
   "metadata": {},
   "outputs": [],
   "source": []
  }
 ],
 "metadata": {
  "kernelspec": {
   "display_name": "Python 3.10.5 64-bit",
   "language": "python",
   "name": "python3"
  },
  "language_info": {
   "codemirror_mode": {
    "name": "ipython",
    "version": 3
   },
   "file_extension": ".py",
   "mimetype": "text/x-python",
   "name": "python",
   "nbconvert_exporter": "python",
   "pygments_lexer": "ipython3",
   "version": "3.10.5"
  },
  "orig_nbformat": 4,
  "vscode": {
   "interpreter": {
    "hash": "26f5c2960d8da0adf328a0625b5baa11b90d27b056bf00200c457e1accccaeb5"
   }
  }
 },
 "nbformat": 4,
 "nbformat_minor": 2
}
