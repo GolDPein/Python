{
 "cells": [
  {
   "cell_type": "markdown",
   "metadata": {},
   "source": [
    "Q2 > Given N array elements check if there exists a pair(i, j), such that arr[i] + arr[j] == k\n",
    "\n",
    "Also, i != j, i & j are index and K is the given num"
   ]
  },
  {
   "cell_type": "code",
   "execution_count": 2,
   "metadata": {},
   "outputs": [],
   "source": [
    "# BruteForce Approach\n",
    "\n",
    "# Loop 1> i: 0 to n-1\n",
    "#     Loop 2> j: 0 to n-1\n",
    "#         check if arr[i] + arr[j] == k and i != j\n",
    "#             if Yes then return the pair or return True\n",
    "# TC: O(n^2)"
   ]
  },
  {
   "cell_type": "code",
   "execution_count": 6,
   "metadata": {},
   "outputs": [
    {
     "name": "stdout",
     "output_type": "stream",
     "text": [
      "Index:  4 6\n",
      "Index:  2 7\n",
      "Index:  1 9\n"
     ]
    }
   ],
   "source": [
    "# Optimized Approach\n",
    "\n",
    "# Logic: consider index pairs like (i, j) to make a 2D Array\n",
    "# then (0, 1) will have the same value as (1, 0)\n",
    "# now since we know this 2D array will be N X N in dimension\n",
    "#     then we can compare values above or below diagonal \n",
    "# This way the end TC: O(n^2) but iteration = n*(n-1) / 2\n",
    "\n",
    "arr = [3, -2, 0, 1, 4, 3, 6, 10, 8, 12]\n",
    "k = 10\n",
    "\n",
    "# 00 01 02 03\n",
    "# 10 11 12 13\n",
    "# 20 21 22 23\n",
    "# 30 31 32 33\n",
    "\n",
    "# Here we consider \n",
    "# Loop 1> i: 1 to n-1\n",
    "#   Loop 2> j: 0 to i-1\n",
    "\n",
    "for i in range(1, len(arr)):\n",
    "    for j in range(0, i):\n",
    "        if arr[i] + arr[j] == k:\n",
    "            print(\"Index: \",j, i)"
   ]
  },
  {
   "cell_type": "code",
   "execution_count": null,
   "metadata": {},
   "outputs": [],
   "source": []
  }
 ],
 "metadata": {
  "kernelspec": {
   "display_name": "Python 3.10.5 64-bit",
   "language": "python",
   "name": "python3"
  },
  "language_info": {
   "codemirror_mode": {
    "name": "ipython",
    "version": 3
   },
   "file_extension": ".py",
   "mimetype": "text/x-python",
   "name": "python",
   "nbconvert_exporter": "python",
   "pygments_lexer": "ipython3",
   "version": "3.10.5"
  },
  "orig_nbformat": 4,
  "vscode": {
   "interpreter": {
    "hash": "26f5c2960d8da0adf328a0625b5baa11b90d27b056bf00200c457e1accccaeb5"
   }
  }
 },
 "nbformat": 4,
 "nbformat_minor": 2
}
