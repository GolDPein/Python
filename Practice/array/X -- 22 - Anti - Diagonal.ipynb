{
 "cells": [
  {
   "cell_type": "markdown",
   "metadata": {},
   "source": [
    "Problem Description: \n",
    "Give a N * N square matrix A, return an array of its anti-diagonals. Look at the example for more details.\n",
    "\n",
    "Output Format: \n",
    "Return a 2D integer array of size (2 * N-1) * N, representing the anti-diagonals of input array A.\n",
    "The vacant spaces in the grid should be assigned to 0.\n",
    "\n",
    "Input:        \n",
    "1 2 3          \n",
    "4 5 6       \n",
    "7 8 9        \n",
    "\n",
    "O/P:        \n",
    "1 0 0         \n",
    "2 4 0           \n",
    "3 5 7           \n",
    "6 8 0           \n",
    "9 0 0       "
   ]
  },
  {
   "cell_type": "code",
   "execution_count": 15,
   "metadata": {},
   "outputs": [],
   "source": [
    "arr = [[1,2,3], [4,5,6],[7,8,9]]"
   ]
  },
  {
   "cell_type": "code",
   "execution_count": 35,
   "metadata": {},
   "outputs": [
    {
     "name": "stdout",
     "output_type": "stream",
     "text": [
      "CPU times: total: 0 ns\n",
      "Wall time: 0 ns\n"
     ]
    }
   ],
   "source": [
    "%%time\n",
    "n = len(arr)\n",
    "# arr2 = [ [0]*n ]*(2*n-1)\n",
    "arr2 = []\n"
   ]
  },
  {
   "cell_type": "code",
   "execution_count": 36,
   "metadata": {},
   "outputs": [
    {
     "name": "stdout",
     "output_type": "stream",
     "text": [
      "[1, 0, 0]\n",
      "[2, 4, 0, 3, 5, 7, 6, 8, 9]\n",
      "[2, 4, 0, 3, 5, 7, 6, 8, 9]\n",
      "[2, 4, 0, 3, 5, 7, 6, 8, 9]\n",
      "[2, 4, 0, 3, 5, 7, 6, 8, 9]\n"
     ]
    }
   ],
   "source": [
    "# for k in range(n-1):\n",
    "#     t = []\n",
    "#     j = k\n",
    "#     for i in range(j+1):\n",
    "#         t.append(arr[i][j])\n",
    "#         j -= 1\n",
    "#     if len(t) < n:\n",
    "#         t.extend([0]*(n-len(t)))\n",
    "#     arr2.append(t)\n",
    "\n",
    "# for k in range(n):\n",
    "#     i = k\n",
    "#     j = n - 1\n",
    "#     for i in range(k, n):\n",
    "#         t.append(arr[i][j])\n",
    "#         j -= 1\n",
    "#     if len(t) < n:\n",
    "#         t.extend([0]*(n-len(t)))\n",
    "#     arr2.append(t)\n",
    "\n",
    "# for row in arr2:\n",
    "#     print(row)"
   ]
  },
  {
   "cell_type": "code",
   "execution_count": 19,
   "metadata": {},
   "outputs": [
    {
     "data": {
      "text/plain": [
       "[0, 0, 0]"
      ]
     },
     "execution_count": 19,
     "metadata": {},
     "output_type": "execute_result"
    }
   ],
   "source": [
    "x = [0]*n\n",
    "x"
   ]
  },
  {
   "cell_type": "code",
   "execution_count": 20,
   "metadata": {},
   "outputs": [
    {
     "data": {
      "text/plain": [
       "[0, 1, 0]"
      ]
     },
     "execution_count": 20,
     "metadata": {},
     "output_type": "execute_result"
    }
   ],
   "source": [
    "x[1] = 1\n",
    "x"
   ]
  },
  {
   "cell_type": "code",
   "execution_count": null,
   "metadata": {},
   "outputs": [],
   "source": []
  }
 ],
 "metadata": {
  "kernelspec": {
   "display_name": "Python 3.10.5 64-bit",
   "language": "python",
   "name": "python3"
  },
  "language_info": {
   "codemirror_mode": {
    "name": "ipython",
    "version": 3
   },
   "file_extension": ".py",
   "mimetype": "text/x-python",
   "name": "python",
   "nbconvert_exporter": "python",
   "pygments_lexer": "ipython3",
   "version": "3.10.5"
  },
  "orig_nbformat": 4,
  "vscode": {
   "interpreter": {
    "hash": "26f5c2960d8da0adf328a0625b5baa11b90d27b056bf00200c457e1accccaeb5"
   }
  }
 },
 "nbformat": 4,
 "nbformat_minor": 2
}
