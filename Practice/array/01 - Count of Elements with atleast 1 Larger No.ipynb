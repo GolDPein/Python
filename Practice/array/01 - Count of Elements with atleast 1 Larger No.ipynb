{
 "cells": [
  {
   "cell_type": "markdown",
   "metadata": {},
   "source": [
    "Q1: Given n elemetns, count no. of elements having atleast 1 element greater than itself"
   ]
  },
  {
   "cell_type": "code",
   "execution_count": 3,
   "metadata": {},
   "outputs": [],
   "source": [
    "# bruteforce sudo code\n",
    "# Loop 1 -> i: for 0 to n-1\n",
    "#   Loop 2 -> j: for 0 to n-1\n",
    "#       check if any element is > than current element at i index & i != j\n",
    "#       if found count += 1, break\n",
    "\n",
    "# TC: O(n^2)"
   ]
  },
  {
   "cell_type": "code",
   "execution_count": 6,
   "metadata": {},
   "outputs": [
    {
     "name": "stdout",
     "output_type": "stream",
     "text": [
      "No of Elements with atleast 1 greater element:  7\n"
     ]
    }
   ],
   "source": [
    "# Optimized Approach\n",
    "\n",
    "# Find the largest element in the array and also its count, \n",
    "# no of elements with atleast 1 greater will be all element except largest\n",
    "\n",
    "num = [2, 3, 10, 7, 3, 7, 2, 10, 8]\n",
    "\n",
    "def getElementsCount(num):\n",
    "    largest = num[0]\n",
    "    count = 0\n",
    "    for n in num:\n",
    "        if n > largest: \n",
    "            largest = n\n",
    "            count = 1\n",
    "        elif n == largest: count += 1\n",
    "    \n",
    "    return len(num)-count\n",
    "\n",
    "print(\"No of Elements with atleast 1 greater element: \", (getElementsCount(num)))"
   ]
  },
  {
   "cell_type": "code",
   "execution_count": 7,
   "metadata": {},
   "outputs": [
    {
     "data": {
      "text/plain": [
       "0"
      ]
     },
     "execution_count": 7,
     "metadata": {},
     "output_type": "execute_result"
    }
   ],
   "source": [
    "# Edge case [ 10, 10, 10] -> O/p = 0\n",
    "getElementsCount([ 10, 10, 10])\n",
    "\n",
    "# TC: O(n)"
   ]
  },
  {
   "cell_type": "code",
   "execution_count": null,
   "metadata": {},
   "outputs": [],
   "source": []
  }
 ],
 "metadata": {
  "kernelspec": {
   "display_name": "Python 3.10.5 64-bit",
   "language": "python",
   "name": "python3"
  },
  "language_info": {
   "codemirror_mode": {
    "name": "ipython",
    "version": 3
   },
   "file_extension": ".py",
   "mimetype": "text/x-python",
   "name": "python",
   "nbconvert_exporter": "python",
   "pygments_lexer": "ipython3",
   "version": "3.10.5"
  },
  "orig_nbformat": 4,
  "vscode": {
   "interpreter": {
    "hash": "26f5c2960d8da0adf328a0625b5baa11b90d27b056bf00200c457e1accccaeb5"
   }
  }
 },
 "nbformat": 4,
 "nbformat_minor": 2
}
