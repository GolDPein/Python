{
 "cells": [
  {
   "cell_type": "markdown",
   "metadata": {},
   "source": [
    "Given array with N elements and Q queries on same array, For each query calculate sum of all elements in the given range (L, R). Node L <= R, L & R are index of array"
   ]
  },
  {
   "cell_type": "code",
   "execution_count": 1,
   "metadata": {},
   "outputs": [],
   "source": [
    "# BruteForce approach\n",
    "# Loop on queries to get L and R values\n",
    "#     Loop on array start = L end = R+1\n",
    "#         all and display the sum of all elements\n",
    "        \n",
    "# TC: O(N*Q)\n",
    "# SC:O(1)"
   ]
  },
  {
   "cell_type": "code",
   "execution_count": 5,
   "metadata": {},
   "outputs": [
    {
     "name": "stdout",
     "output_type": "stream",
     "text": [
      "11\n",
      "-4\n",
      "2\n"
     ]
    }
   ],
   "source": [
    "# Optimized using Prefix Sum\n",
    "arr = [-3, 6, 2, 4, -5, 2, 8, -9, 3, 1]\n",
    "Q = [(2, 6), (4, 7), (5, 5)]\n",
    "\n",
    "# get Prefix sum\n",
    "pfSum = [arr[0]]\n",
    "for i in range(1, len(arr)):\n",
    "    pfSum.append(pfSum[i-1]+arr[i])\n",
    "\n",
    "for L, R in Q:\n",
    "    if L == 0: print(pfSum[R])\n",
    "    else: print(pfSum[R] - pfSum[L-1])\n",
    "    \n",
    "# TC: O(Q+N)\n",
    "# SC: O(N)"
   ]
  },
  {
   "cell_type": "code",
   "execution_count": null,
   "metadata": {},
   "outputs": [],
   "source": []
  }
 ],
 "metadata": {
  "kernelspec": {
   "display_name": "Python 3.10.5 64-bit",
   "language": "python",
   "name": "python3"
  },
  "language_info": {
   "codemirror_mode": {
    "name": "ipython",
    "version": 3
   },
   "file_extension": ".py",
   "mimetype": "text/x-python",
   "name": "python",
   "nbconvert_exporter": "python",
   "pygments_lexer": "ipython3",
   "version": "3.10.5"
  },
  "orig_nbformat": 4,
  "vscode": {
   "interpreter": {
    "hash": "26f5c2960d8da0adf328a0625b5baa11b90d27b056bf00200c457e1accccaeb5"
   }
  }
 },
 "nbformat": 4,
 "nbformat_minor": 2
}
