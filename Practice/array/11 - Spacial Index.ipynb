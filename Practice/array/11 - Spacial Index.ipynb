{
 "cells": [
  {
   "cell_type": "markdown",
   "metadata": {},
   "source": [
    "#### Spacial Index\n",
    "An index is said to be a spacial index, if after deleting the index. Sum of all odd index == sum of all even indexes.\n",
    "\n",
    "Print the count of spacial index"
   ]
  },
  {
   "cell_type": "code",
   "execution_count": 9,
   "metadata": {},
   "outputs": [
    {
     "name": "stdout",
     "output_type": "stream",
     "text": [
      "[0, 1, 2, 3, 4, 5, 6, 7, 8, 9, 10, 11, 12, 13]\n"
     ]
    }
   ],
   "source": [
    "arr = [ i for i in range(14)]\n",
    "print(arr)"
   ]
  },
  {
   "cell_type": "code",
   "execution_count": 10,
   "metadata": {},
   "outputs": [
    {
     "name": "stdout",
     "output_type": "stream",
     "text": [
      "[0, 0, 2, 2, 6, 6, 12, 12, 20, 20, 30, 30, 42, 42]\n",
      "[0, 1, 1, 4, 4, 9, 9, 16, 16, 25, 25, 36, 36, 49]\n"
     ]
    }
   ],
   "source": [
    "# pfEven\n",
    "def getEvenPF(arr):\n",
    "    pfEven = [arr[0]]\n",
    "    for i in range(1, len(arr)):\n",
    "        if i&1: pfEven.append(pfEven[i-1]) #ODD\n",
    "        else: pfEven.append( pfEven[i-1]+ arr[i] ) # EVEN\n",
    "    return pfEven\n",
    "\n",
    "# pfOdd\n",
    "def getOddPF(arr):\n",
    "    pfOdd = [ 0 ]\n",
    "    for i in range(1, len(arr)):\n",
    "        if i&1: pfOdd.append( pfOdd[i-1] + arr[i] ) #ODD\n",
    "        else: pfOdd.append( pfOdd[i-1] ) # EVEN\n",
    "    return pfOdd\n",
    "\n",
    "pfEven = getEvenPF(arr)\n",
    "pfOdd = getOddPF(arr)    \n",
    "print(pfEven)\n",
    "print(pfOdd)"
   ]
  },
  {
   "cell_type": "code",
   "execution_count": 11,
   "metadata": {},
   "outputs": [
    {
     "name": "stdout",
     "output_type": "stream",
     "text": [
      "0\n"
     ]
    }
   ],
   "source": [
    "def spacialIndexCount(arr):\n",
    "    count = 0\n",
    "    for i in range(len(arr)):\n",
    "        if i==0: \n",
    "            eSum = pfOdd[len(arr)-1] - pfOdd[i]\n",
    "            oSum = pfEven[len(arr)-1] - pfEven[i]\n",
    "        elif i == len(arr) - 1:\n",
    "            eSum = pfOdd[i-1]\n",
    "            oSum = pfEven[i-1]\n",
    "        else:\n",
    "            eSum = pfEven[i-1] + pfOdd[len(arr)-1] - pfOdd[i]\n",
    "            oSum = pfOdd[i-1] + pfEven[len(arr)-1] - pfEven[i] \n",
    "        \n",
    "        if eSum == oSum: count += 1\n",
    "    return count\n",
    "\n",
    "print(spacialIndexCount(arr))"
   ]
  },
  {
   "cell_type": "code",
   "execution_count": 12,
   "metadata": {},
   "outputs": [
    {
     "name": "stdout",
     "output_type": "stream",
     "text": [
      "[4, 4, 6, 6, 12, 12]\n",
      "[0, 3, 3, 10, 10, 8]\n",
      "2\n"
     ]
    }
   ],
   "source": [
    "arr = [4, 3, 2, 7, 6, -2]\n",
    "\n",
    "pfEven = getEvenPF(arr)\n",
    "pfOdd = getOddPF(arr)    \n",
    "print(pfEven)\n",
    "print(pfOdd)\n",
    "\n",
    "print(spacialIndexCount(arr))"
   ]
  },
  {
   "cell_type": "code",
   "execution_count": null,
   "metadata": {},
   "outputs": [],
   "source": []
  }
 ],
 "metadata": {
  "kernelspec": {
   "display_name": "Python 3.10.5 64-bit",
   "language": "python",
   "name": "python3"
  },
  "language_info": {
   "codemirror_mode": {
    "name": "ipython",
    "version": 3
   },
   "file_extension": ".py",
   "mimetype": "text/x-python",
   "name": "python",
   "nbconvert_exporter": "python",
   "pygments_lexer": "ipython3",
   "version": "3.10.5"
  },
  "orig_nbformat": 4,
  "vscode": {
   "interpreter": {
    "hash": "26f5c2960d8da0adf328a0625b5baa11b90d27b056bf00200c457e1accccaeb5"
   }
  }
 },
 "nbformat": 4,
 "nbformat_minor": 2
}
