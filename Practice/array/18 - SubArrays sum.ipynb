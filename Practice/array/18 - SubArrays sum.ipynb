{
 "cells": [
  {
   "cell_type": "code",
   "execution_count": 3,
   "metadata": {},
   "outputs": [
    {
     "name": "stdout",
     "output_type": "stream",
     "text": [
      "[8, 10, 19, 29, 2, 11, 21, 9, 19, 10]\n",
      "138\n"
     ]
    }
   ],
   "source": [
    "# All SubArray Sum\n",
    "arr = [8, 2, 9, 10]\n",
    "\n",
    "ans = []\n",
    "for i in range(len(arr)):\n",
    "    temp = []\n",
    "    for j in range(i, len(arr)):\n",
    "        temp.append(arr[j])\n",
    "        ans.append(sum(temp))\n",
    "\n",
    "# Print sum of each subarray\n",
    "print(ans)\n",
    "\n",
    "# Print sum of all subarray\n",
    "print(sum(ans))"
   ]
  },
  {
   "cell_type": "code",
   "execution_count": 6,
   "metadata": {},
   "outputs": [
    {
     "name": "stdout",
     "output_type": "stream",
     "text": [
      "SubArray Sum:  8\n",
      "SubArray Sum:  10\n",
      "SubArray Sum:  19\n",
      "SubArray Sum:  29\n",
      "SubArray Sum:  2\n",
      "SubArray Sum:  11\n",
      "SubArray Sum:  21\n",
      "SubArray Sum:  9\n",
      "SubArray Sum:  19\n",
      "SubArray Sum:  10\n",
      "138\n"
     ]
    }
   ],
   "source": [
    "# Without extra space\n",
    "arr = [8, 2, 9, 10]\n",
    "\n",
    "totalSum = 0\n",
    "for i in range(len(arr)):\n",
    "    tempSum = 0\n",
    "    for j in range(i, len(arr)):\n",
    "        tempSum += arr[j]\n",
    "        print(\"SubArray Sum: \", tempSum)\n",
    "        totalSum += tempSum\n",
    "\n",
    "print(totalSum)"
   ]
  },
  {
   "cell_type": "code",
   "execution_count": 9,
   "metadata": {},
   "outputs": [
    {
     "name": "stdout",
     "output_type": "stream",
     "text": [
      "138\n"
     ]
    }
   ],
   "source": [
    "# Same can also be achieved using prefix sum inplace of carry forward\n",
    "arr = [8, 2, 9, 10]\n",
    "pfSum = [arr[0]]\n",
    "for i in range(1, len(arr)):\n",
    "    pfSum.append(pfSum[i-1]+arr[i])\n",
    "\n",
    "totalSum = 0\n",
    "for i in range(len(arr)):\n",
    "    for j in range(i, len(arr)):\n",
    "        if i != 0: totalSum += pfSum[j] - pfSum[i-1]\n",
    "        else: totalSum += pfSum[j]\n",
    "\n",
    "print(totalSum)\n"
   ]
  },
  {
   "cell_type": "code",
   "execution_count": 11,
   "metadata": {},
   "outputs": [
    {
     "name": "stdout",
     "output_type": "stream",
     "text": [
      "62\n"
     ]
    }
   ],
   "source": [
    "# All subarrays sum that start at index 2\n",
    "arr = [7, 3, 2, -1, 6, 8, 2, 3]\n",
    "tSum = 0\n",
    "allSum = 0\n",
    "for i in range(2, len(arr)):\n",
    "    tSum += arr[i]\n",
    "    allSum += tSum\n",
    "\n",
    "print(allSum)"
   ]
  },
  {
   "cell_type": "code",
   "execution_count": 13,
   "metadata": {},
   "outputs": [
    {
     "name": "stdout",
     "output_type": "stream",
     "text": [
      "8\n"
     ]
    }
   ],
   "source": [
    "# max sum out of all subarray sums\n",
    "import sys\n",
    "arr = [4, -1, 2, 3]\n",
    "\n",
    "maxSum = sys.maxsize * -1\n",
    "for s in range(len(arr)):\n",
    "    tsum = 0\n",
    "    for e in range(s, len(arr)): \n",
    "        tsum += arr[e]\n",
    "        maxSum = max(maxSum, tsum)\n",
    "\n",
    "print(maxSum)"
   ]
  },
  {
   "cell_type": "code",
   "execution_count": null,
   "metadata": {},
   "outputs": [],
   "source": [
    "\n"
   ]
  }
 ],
 "metadata": {
  "kernelspec": {
   "display_name": "Python 3.10.5 64-bit",
   "language": "python",
   "name": "python3"
  },
  "language_info": {
   "codemirror_mode": {
    "name": "ipython",
    "version": 3
   },
   "file_extension": ".py",
   "mimetype": "text/x-python",
   "name": "python",
   "nbconvert_exporter": "python",
   "pygments_lexer": "ipython3",
   "version": "3.10.5"
  },
  "orig_nbformat": 4,
  "vscode": {
   "interpreter": {
    "hash": "26f5c2960d8da0adf328a0625b5baa11b90d27b056bf00200c457e1accccaeb5"
   }
  }
 },
 "nbformat": 4,
 "nbformat_minor": 2
}
