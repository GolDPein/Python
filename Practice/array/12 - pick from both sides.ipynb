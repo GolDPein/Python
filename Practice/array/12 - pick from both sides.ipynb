{
 "cells": [
  {
   "cell_type": "markdown",
   "metadata": {},
   "source": [
    "You are given an integer array A of size N.\n",
    "\n",
    "You have to pick B elements in total. Some (possibly 0) elements from left end of array A and some (possibly 0) from the right end of array A to get the maximum sum.\n",
    "\n",
    "Find and return this maximum possible sum.\n",
    "\n",
    "NOTE: Suppose B = 4, and array A contains 10 elements, then\n",
    "\n",
    "You can pick the first four elements or can pick the last four elements, or can pick 1 from front and 3 from the back, etc. You need to return the maximum possible sum of elements you can pick."
   ]
  },
  {
   "cell_type": "code",
   "execution_count": 3,
   "metadata": {},
   "outputs": [
    {
     "name": "stdout",
     "output_type": "stream",
     "text": [
      "6\n",
      "5\n",
      "8\n",
      "8\n"
     ]
    }
   ],
   "source": [
    "import sys\n",
    "# using prefix Sum\n",
    "arr = [ 5, -2, 3, 1, 2]\n",
    "\n",
    "pfSum = [arr[0]]\n",
    "for i in range(1, len(arr)):\n",
    "    pfSum.append(pfSum[i-1]+arr[i])\n",
    "    \n",
    "k = 3\n",
    "L = k - 1\n",
    "R = 0\n",
    "\n",
    "maxSum = sys.maxsize * -1\n",
    "while R < k:\n",
    "    tSum = 0\n",
    "    if L >= 0: tSum += pfSum[L]\n",
    "    if R > 0: tSum += pfSum[-1] - pfSum[len(arr)-R-1]\n",
    "    print(tSum)\n",
    "    \n",
    "    L -= 1\n",
    "    R += 1\n",
    "    maxSum = max(maxSum, tSum)\n",
    "\n",
    "print(maxSum)"
   ]
  },
  {
   "cell_type": "code",
   "execution_count": 9,
   "metadata": {},
   "outputs": [
    {
     "name": "stdout",
     "output_type": "stream",
     "text": [
      "8\n"
     ]
    }
   ],
   "source": [
    "arr = [ 5, -2, 3, 1, 2]\n",
    "k = 3\n",
    "\n",
    "tSum = 0\n",
    "for i in range(k):\n",
    "    tSum += arr[i]\n",
    "\n",
    "maxSum = tSum\n",
    "j = len(arr) - 1\n",
    "for i in range(k-1, -1, -1):\n",
    "    tSum += arr[j] - arr[i]\n",
    "    j -= 1\n",
    "    maxSum = max(maxSum, tSum)\n",
    "\n",
    "print(maxSum)"
   ]
  },
  {
   "cell_type": "code",
   "execution_count": null,
   "metadata": {},
   "outputs": [],
   "source": []
  }
 ],
 "metadata": {
  "kernelspec": {
   "display_name": "Python 3.10.5 64-bit",
   "language": "python",
   "name": "python3"
  },
  "language_info": {
   "codemirror_mode": {
    "name": "ipython",
    "version": 3
   },
   "file_extension": ".py",
   "mimetype": "text/x-python",
   "name": "python",
   "nbconvert_exporter": "python",
   "pygments_lexer": "ipython3",
   "version": "3.10.5"
  },
  "orig_nbformat": 4,
  "vscode": {
   "interpreter": {
    "hash": "26f5c2960d8da0adf328a0625b5baa11b90d27b056bf00200c457e1accccaeb5"
   }
  }
 },
 "nbformat": 4,
 "nbformat_minor": 2
}
