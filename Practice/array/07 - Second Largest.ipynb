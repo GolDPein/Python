{
 "cells": [
  {
   "cell_type": "markdown",
   "metadata": {},
   "source": [
    "You are given an integer array A. You have to find the second largest element/value in the array or report that no such element exists.\n",
    "\n",
    "0 <= arr[i] <= 10^9"
   ]
  },
  {
   "cell_type": "code",
   "execution_count": 1,
   "metadata": {},
   "outputs": [],
   "source": [
    "# BruteForce\n",
    "# create a set to store unique values\n",
    "# convert into list and sort it\n",
    "# pick 2nd largest from the list\n",
    "\n",
    "# Advantage: Works for nth largest n all\n",
    "# Disadvantage\n",
    "# 1. if [1, 2, 3, 4, 5, 5]\n",
    "# if in question 5 is the Largest and the 2nd Largest, then set and all wont work\n",
    "# 2. Space complexity"
   ]
  },
  {
   "cell_type": "code",
   "execution_count": 2,
   "metadata": {},
   "outputs": [
    {
     "name": "stdout",
     "output_type": "stream",
     "text": [
      "13\n"
     ]
    }
   ],
   "source": [
    "# Optimized for 2nd Largest\n",
    "arr = [1, 3, 2, 7, 4, 11, 3, 18, 6, 13]\n",
    "largestIdx = 0\n",
    "\n",
    "for i in range(len(arr)):\n",
    "    if arr[i] > arr[largestIdx]: largestIdx = i\n",
    "\n",
    "# 2nd largest\n",
    "ans = -1\n",
    "for i in range(len(arr)):\n",
    "    if i != largestIdx:  ans = max(ans, arr[i])\n",
    "\n",
    "print(ans)"
   ]
  },
  {
   "cell_type": "code",
   "execution_count": null,
   "metadata": {},
   "outputs": [],
   "source": []
  }
 ],
 "metadata": {
  "kernelspec": {
   "display_name": "Python 3.10.5 64-bit",
   "language": "python",
   "name": "python3"
  },
  "language_info": {
   "codemirror_mode": {
    "name": "ipython",
    "version": 3
   },
   "file_extension": ".py",
   "mimetype": "text/x-python",
   "name": "python",
   "nbconvert_exporter": "python",
   "pygments_lexer": "ipython3",
   "version": "3.10.5"
  },
  "orig_nbformat": 4,
  "vscode": {
   "interpreter": {
    "hash": "26f5c2960d8da0adf328a0625b5baa11b90d27b056bf00200c457e1accccaeb5"
   }
  }
 },
 "nbformat": 4,
 "nbformat_minor": 2
}
