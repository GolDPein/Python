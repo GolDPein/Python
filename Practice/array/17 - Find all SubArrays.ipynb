{
 "cells": [
  {
   "cell_type": "code",
   "execution_count": 1,
   "metadata": {},
   "outputs": [
    {
     "name": "stdout",
     "output_type": "stream",
     "text": [
      "10\n"
     ]
    }
   ],
   "source": [
    "# Find the Number of SubArrays\n",
    "arr = [-1, 3, 2, 3]\n",
    "\n",
    "count = 0\n",
    "ans = 0\n",
    "for i in range(len(arr)-1, -1, -1):\n",
    "    count += 1\n",
    "    ans += count\n",
    "    \n",
    "print(ans)"
   ]
  },
  {
   "cell_type": "code",
   "execution_count": 13,
   "metadata": {},
   "outputs": [
    {
     "name": "stdout",
     "output_type": "stream",
     "text": [
      "[[-1], [-1, 3], [-1, 3, 2], [-1, 3, 2, 3], [3], [3, 2], [3, 2, 3], [2], [2, 3], [3]]\n"
     ]
    }
   ],
   "source": [
    "# Print all Sub Arrays\n",
    "arr = [-1, 3, 2, 3]\n",
    "\n",
    "ans = []\n",
    "for i in range(len(arr)):\n",
    "    temp = []\n",
    "    for j in range(i, len(arr)):\n",
    "        temp.append(arr[j])\n",
    "        ans.append(temp.copy())\n",
    "\n",
    "print(ans)"
   ]
  },
  {
   "cell_type": "code",
   "execution_count": null,
   "metadata": {},
   "outputs": [],
   "source": []
  }
 ],
 "metadata": {
  "kernelspec": {
   "display_name": "Python 3.10.5 64-bit",
   "language": "python",
   "name": "python3"
  },
  "language_info": {
   "codemirror_mode": {
    "name": "ipython",
    "version": 3
   },
   "file_extension": ".py",
   "mimetype": "text/x-python",
   "name": "python",
   "nbconvert_exporter": "python",
   "pygments_lexer": "ipython3",
   "version": "3.10.5"
  },
  "orig_nbformat": 4,
  "vscode": {
   "interpreter": {
    "hash": "26f5c2960d8da0adf328a0625b5baa11b90d27b056bf00200c457e1accccaeb5"
   }
  }
 },
 "nbformat": 4,
 "nbformat_minor": 2
}
