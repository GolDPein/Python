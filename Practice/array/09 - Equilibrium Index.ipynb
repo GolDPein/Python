{
 "cells": [
  {
   "cell_type": "markdown",
   "metadata": {},
   "source": [
    "Given array with N elements, count no of equilibrium index.\n",
    "\n",
    "An index X is said to be an equiliubrium index if             \n",
    "sum of all elements before index X = sum of all elements after index X"
   ]
  },
  {
   "cell_type": "code",
   "execution_count": 1,
   "metadata": {},
   "outputs": [],
   "source": [
    "arr = [3, -1, 2, -1, 1, 2, 1]"
   ]
  },
  {
   "cell_type": "code",
   "execution_count": 5,
   "metadata": {},
   "outputs": [
    {
     "name": "stdout",
     "output_type": "stream",
     "text": [
      "[3, 2, 4, 3, 4, 6, 7]\n",
      "2 [3, 4]\n"
     ]
    }
   ],
   "source": [
    "# using Prefix Sum\n",
    "pfSum = [arr[0]]\n",
    "for i in range(1, len(arr)):\n",
    "    pfSum.append(pfSum[i-1]+arr[i])\n",
    "\n",
    "print(pfSum)\n",
    "\n",
    "count = 0\n",
    "idx = []\n",
    "for i in range(len(arr)):\n",
    "    if i == 0: lSum = 0\n",
    "    else: lSum = pfSum[i-1]\n",
    "    \n",
    "    if i == len(arr)-1: rSum = 0\n",
    "    else: rSum = pfSum[len(arr)-1] - pfSum[i]\n",
    "    \n",
    "    if lSum == rSum: \n",
    "        count += 1\n",
    "        idx.append(i)\n",
    "\n",
    "print(count, idx)\n",
    "\n",
    "# TC: O(N)\n",
    "# SC: O(N)"
   ]
  },
  {
   "cell_type": "code",
   "execution_count": null,
   "metadata": {},
   "outputs": [],
   "source": []
  }
 ],
 "metadata": {
  "kernelspec": {
   "display_name": "Python 3.10.5 64-bit",
   "language": "python",
   "name": "python3"
  },
  "language_info": {
   "codemirror_mode": {
    "name": "ipython",
    "version": 3
   },
   "file_extension": ".py",
   "mimetype": "text/x-python",
   "name": "python",
   "nbconvert_exporter": "python",
   "pygments_lexer": "ipython3",
   "version": "3.10.5"
  },
  "orig_nbformat": 4,
  "vscode": {
   "interpreter": {
    "hash": "26f5c2960d8da0adf328a0625b5baa11b90d27b056bf00200c457e1accccaeb5"
   }
  }
 },
 "nbformat": 4,
 "nbformat_minor": 2
}
