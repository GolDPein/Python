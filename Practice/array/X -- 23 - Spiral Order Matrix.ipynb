{
 "cells": [
  {
   "cell_type": "markdown",
   "metadata": {},
   "source": [
    "Given an integer A, generate a square matrix filled with elements from 1 to A2 in spiral order and return the generated square matrix.\n",
    "\n",
    "I/P: 5\n",
    "\n",
    "O/P: \n",
    "[          \n",
    "    [1, 2, 3, 4, 5],             \n",
    "    [16, 17, 18, 19, 6],            \n",
    "    [15, 24, 25, 20, 7],            \n",
    "    [14, 23, 22, 21, 8],           \n",
    "    [13, 12, 11, 10, 9]             \n",
    "]"
   ]
  },
  {
   "cell_type": "code",
   "execution_count": null,
   "metadata": {},
   "outputs": [],
   "source": []
  }
 ],
 "metadata": {
  "language_info": {
   "name": "python"
  },
  "orig_nbformat": 4
 },
 "nbformat": 4,
 "nbformat_minor": 2
}
