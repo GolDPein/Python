{
 "cells": [
  {
   "cell_type": "markdown",
   "metadata": {},
   "source": [
    "Q5> Given an array, rotate the array from last to first by k times"
   ]
  },
  {
   "cell_type": "code",
   "execution_count": 5,
   "metadata": {},
   "outputs": [],
   "source": [
    "arr = [i for i in range(15)]\n",
    "k = 4"
   ]
  },
  {
   "cell_type": "code",
   "execution_count": 6,
   "metadata": {},
   "outputs": [],
   "source": [
    "# BruteForce\n",
    "\n",
    "# Loop k times\n",
    "#     pick last element and add into a temp array\n",
    "#     pick rest of the elements and add into temp array\n",
    "\n",
    "# only drawback is that it uses additional space"
   ]
  },
  {
   "cell_type": "code",
   "execution_count": 8,
   "metadata": {},
   "outputs": [],
   "source": [
    "def reverse(arr, start, end):\n",
    "    while start < end:\n",
    "        arr[start], arr[end] = arr[end], arr[start]\n",
    "        start += 1\n",
    "        end -= 1\n",
    "    \n",
    "    return arr"
   ]
  },
  {
   "cell_type": "code",
   "execution_count": 7,
   "metadata": {},
   "outputs": [
    {
     "name": "stdout",
     "output_type": "stream",
     "text": [
      "[0, 1, 2, 3, 4, 5, 6, 7, 8, 9, 10, 11, 12, 13, 14]\n",
      "[14, 13, 12, 11, 10, 9, 8, 7, 6, 5, 4, 3, 2, 1, 0]\n",
      "[11, 12, 13, 14, 10, 9, 8, 7, 6, 5, 4, 3, 2, 1, 0]\n",
      "[11, 12, 13, 14, 0, 1, 2, 3, 4, 5, 6, 7, 8, 9, 10]\n"
     ]
    }
   ],
   "source": [
    "# Last to First\n",
    "start = 0\n",
    "end = len(arr) - 1\n",
    "print(arr)\n",
    "\n",
    "if k%len(arr) == 0: print(arr)\n",
    "else:\n",
    "    k = k%len(arr)\n",
    "    # reverse whole array\n",
    "    arr = reverse(arr, start, end)\n",
    "    print(arr)\n",
    "\n",
    "    # reverse 0 to k-1\n",
    "    arr = reverse(arr, 0, k-1)\n",
    "    print(arr)\n",
    "\n",
    "    # reverse k to end of arr\n",
    "    arr = reverse(arr, k, end)\n",
    "    print(arr)\n"
   ]
  },
  {
   "cell_type": "code",
   "execution_count": 19,
   "metadata": {},
   "outputs": [
    {
     "name": "stdout",
     "output_type": "stream",
     "text": [
      "[0, 1, 2, 3, 4, 5, 6, 7, 8, 9, 10, 11, 12, 13, 14]\n",
      "[14, 13, 12, 11, 10, 9, 8, 7, 6, 5, 4, 3, 2, 1, 0]\n",
      "[14, 13, 12, 11, 10, 9, 8, 7, 6, 5, 4, 0, 1, 2, 3]\n",
      "[4, 5, 6, 7, 8, 9, 10, 11, 12, 13, 14, 0, 1, 2, 3]\n"
     ]
    }
   ],
   "source": [
    "#  First to Last\n",
    "arr = [i for i in range(15)]\n",
    "k = 4\n",
    "\n",
    "start = 0\n",
    "end = len(arr) - 1\n",
    "print(arr)\n",
    "\n",
    "# reverse whole array\n",
    "arr = reverse(arr, start, end)\n",
    "print(arr)\n",
    "\n",
    "# reverse 0 to k-1\n",
    "arr = reverse(arr, end-k+1, end)\n",
    "print(arr)\n",
    "\n",
    "# reverse k to end of arr\n",
    "arr = reverse(arr, 0, end-k)\n",
    "print(arr)"
   ]
  },
  {
   "cell_type": "code",
   "execution_count": null,
   "metadata": {},
   "outputs": [],
   "source": [
    "# Note to add\n",
    "# k = k%len(arr)\n",
    "# and if k%len(arr) == 0 => then arr remains the same"
   ]
  }
 ],
 "metadata": {
  "kernelspec": {
   "display_name": "Python 3.10.5 64-bit",
   "language": "python",
   "name": "python3"
  },
  "language_info": {
   "codemirror_mode": {
    "name": "ipython",
    "version": 3
   },
   "file_extension": ".py",
   "mimetype": "text/x-python",
   "name": "python",
   "nbconvert_exporter": "python",
   "pygments_lexer": "ipython3",
   "version": "3.10.5"
  },
  "orig_nbformat": 4,
  "vscode": {
   "interpreter": {
    "hash": "26f5c2960d8da0adf328a0625b5baa11b90d27b056bf00200c457e1accccaeb5"
   }
  }
 },
 "nbformat": 4,
 "nbformat_minor": 2
}
