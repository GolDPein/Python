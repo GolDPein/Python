{
 "cells": [
  {
   "cell_type": "markdown",
   "metadata": {},
   "source": [
    "#### Closest Min Max\n",
    "\n",
    "Given an array find the length of smallest subarray which contains both min and max array ?"
   ]
  },
  {
   "cell_type": "code",
   "execution_count": 7,
   "metadata": {},
   "outputs": [],
   "source": [
    "arr = [1, 2, 3, 1, 3, 4, 6, 4, 6, 3, 1]"
   ]
  },
  {
   "cell_type": "code",
   "execution_count": 8,
   "metadata": {},
   "outputs": [
    {
     "name": "stdout",
     "output_type": "stream",
     "text": [
      "1 6\n"
     ]
    }
   ],
   "source": [
    "# find min and max\n",
    "minA = maxA = arr[0]\n",
    "for a in arr:\n",
    "    if minA > a: minA = a\n",
    "    if maxA < a: maxA = a\n",
    "\n",
    "print(minA, maxA)"
   ]
  },
  {
   "cell_type": "code",
   "execution_count": 9,
   "metadata": {},
   "outputs": [
    {
     "name": "stdout",
     "output_type": "stream",
     "text": [
      "3\n"
     ]
    }
   ],
   "source": [
    "# find min length\n",
    "minL = len(arr)\n",
    "minIdx = maxIdx = -1 \n",
    "for i in range(len(arr)-1, -1, -1):\n",
    "    if arr[i] == minA:\n",
    "        minIdx = i\n",
    "        if maxIdx != -1: minL = min(minL, (abs(maxIdx - minIdx)))\n",
    "    \n",
    "    if arr[i] == maxA:\n",
    "        maxIdx = i\n",
    "        if minIdx != -1: minL = min(minL, (abs(maxIdx - minIdx)))\n",
    "    \n",
    "print(minL+1)"
   ]
  },
  {
   "cell_type": "code",
   "execution_count": null,
   "metadata": {},
   "outputs": [],
   "source": []
  },
  {
   "cell_type": "code",
   "execution_count": null,
   "metadata": {},
   "outputs": [],
   "source": []
  }
 ],
 "metadata": {
  "kernelspec": {
   "display_name": "Python 3.10.5 64-bit",
   "language": "python",
   "name": "python3"
  },
  "language_info": {
   "codemirror_mode": {
    "name": "ipython",
    "version": 3
   },
   "file_extension": ".py",
   "mimetype": "text/x-python",
   "name": "python",
   "nbconvert_exporter": "python",
   "pygments_lexer": "ipython3",
   "version": "3.10.5"
  },
  "orig_nbformat": 4,
  "vscode": {
   "interpreter": {
    "hash": "26f5c2960d8da0adf328a0625b5baa11b90d27b056bf00200c457e1accccaeb5"
   }
  }
 },
 "nbformat": 4,
 "nbformat_minor": 2
}
