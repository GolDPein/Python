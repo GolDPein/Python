{
 "cells": [
  {
   "cell_type": "markdown",
   "metadata": {},
   "source": [
    "Q4> Given N array elements, reverse the array as per the given range (s, e)"
   ]
  },
  {
   "cell_type": "code",
   "execution_count": 2,
   "metadata": {},
   "outputs": [
    {
     "name": "stdout",
     "output_type": "stream",
     "text": [
      "[0, 1, 2, 3, 4, 5, 6, 7, 8, 9, 10, 11, 12, 13, 14]\n"
     ]
    }
   ],
   "source": [
    "arr = [i for i in range(15)]\n",
    "start = 3\n",
    "end = 8\n",
    "print(arr)"
   ]
  },
  {
   "cell_type": "code",
   "execution_count": 4,
   "metadata": {},
   "outputs": [
    {
     "name": "stdout",
     "output_type": "stream",
     "text": [
      "[0, 1, 2, 8, 7, 6, 5, 4, 3, 9, 10, 11, 12, 13, 14]\n"
     ]
    }
   ],
   "source": [
    "while start < end:\n",
    "    arr[start], arr[end] = arr[end], arr[start]\n",
    "    start += 1\n",
    "    end -= 1\n",
    "\n",
    "print(arr)\n",
    "    "
   ]
  },
  {
   "cell_type": "code",
   "execution_count": null,
   "metadata": {},
   "outputs": [],
   "source": []
  }
 ],
 "metadata": {
  "kernelspec": {
   "display_name": "Python 3.10.5 64-bit",
   "language": "python",
   "name": "python3"
  },
  "language_info": {
   "codemirror_mode": {
    "name": "ipython",
    "version": 3
   },
   "file_extension": ".py",
   "mimetype": "text/x-python",
   "name": "python",
   "nbconvert_exporter": "python",
   "pygments_lexer": "ipython3",
   "version": "3.10.5"
  },
  "orig_nbformat": 4,
  "vscode": {
   "interpreter": {
    "hash": "26f5c2960d8da0adf328a0625b5baa11b90d27b056bf00200c457e1accccaeb5"
   }
  }
 },
 "nbformat": 4,
 "nbformat_minor": 2
}
