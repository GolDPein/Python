{
 "cells": [
  {
   "cell_type": "markdown",
   "metadata": {},
   "source": [
    "Length of longest consecutive ones: Given a binary string A. It is allowed to do at most one swap between any 0 and 1. Find and return the length of the longest consecutive 1’s that can be achieved."
   ]
  },
  {
   "cell_type": "code",
   "execution_count": 19,
   "metadata": {},
   "outputs": [
    {
     "name": "stdout",
     "output_type": "stream",
     "text": [
      "6\n"
     ]
    }
   ],
   "source": [
    "# A = \"111011101\"\n",
    "# A = \"11010110000000000\"\n",
    "A = \"11110000100111000101110010111101\"\n",
    "\n",
    "ones = A.count(\"1\")\n",
    "n = len(A)\n",
    "maxOnes = 0\n",
    "\n",
    "for i in range(n):\n",
    "    left = 0\n",
    "    for j in range(i-1, -1, -1):\n",
    "        if A[j] == \"1\": left += 1\n",
    "        else: break\n",
    "    \n",
    "    right = 0\n",
    "    for j in range(i+1, n):\n",
    "        if A[j] == \"1\": right += 1\n",
    "        else: break\n",
    "    \n",
    "    if ones == left + right: maxOnes = max(maxOnes, left+right)\n",
    "    else: maxOnes = max(maxOnes, left+right+1)\n",
    "\n",
    "print(maxOnes)"
   ]
  },
  {
   "cell_type": "code",
   "execution_count": 4,
   "metadata": {},
   "outputs": [
    {
     "data": {
      "text/plain": [
       "True"
      ]
     },
     "execution_count": 4,
     "metadata": {},
     "output_type": "execute_result"
    }
   ],
   "source": []
  },
  {
   "cell_type": "code",
   "execution_count": null,
   "metadata": {},
   "outputs": [],
   "source": []
  }
 ],
 "metadata": {
  "kernelspec": {
   "display_name": "Python 3.10.5 64-bit",
   "language": "python",
   "name": "python3"
  },
  "language_info": {
   "codemirror_mode": {
    "name": "ipython",
    "version": 3
   },
   "file_extension": ".py",
   "mimetype": "text/x-python",
   "name": "python",
   "nbconvert_exporter": "python",
   "pygments_lexer": "ipython3",
   "version": "3.10.5"
  },
  "orig_nbformat": 4,
  "vscode": {
   "interpreter": {
    "hash": "26f5c2960d8da0adf328a0625b5baa11b90d27b056bf00200c457e1accccaeb5"
   }
  }
 },
 "nbformat": 4,
 "nbformat_minor": 2
}
