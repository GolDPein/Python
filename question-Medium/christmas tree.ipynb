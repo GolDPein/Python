{
 "cells": [
  {
   "cell_type": "markdown",
   "metadata": {},
   "source": [
    "**Problem Description:**             \n",
    "You are given an array A consisting of heights of Christmas trees and an array B of the same size consisting of the cost of each of the trees (Bi is the cost of tree Ai, where 1 ≤ i ≤ size(A)), and you are supposed to choose 3 trees (let's say, indices p, q, and r), such that Ap < Aq < Ar, where p < q < r.            \n",
    "The cost of these trees is Bp + Bq + Br.\n",
    "\n",
    "You are to choose 3 trees such that their total cost is minimum. Return that cost.\n",
    "\n",
    "If it is not possible to choose 3 such trees return -1.\n",
    "\n",
    "I/P:            \n",
    " A = [1, 6, 4, 2, 6, 9]\n",
    " B = [2, 5, 7, 3, 2, 7]\n",
    "\n",
    "O/P: 7"
   ]
  },
  {
   "cell_type": "code",
   "execution_count": 1,
   "metadata": {},
   "outputs": [],
   "source": [
    "# Bruteforce\n",
    "# Loop 3 times in inc order and comapre values\n",
    "# TC: O(n^3)"
   ]
  },
  {
   "cell_type": "code",
   "execution_count": 4,
   "metadata": {},
   "outputs": [
    {
     "name": "stdout",
     "output_type": "stream",
     "text": [
      "6\n"
     ]
    }
   ],
   "source": [
    "# TC: O(n^2)\n",
    "import sys\n",
    "\n",
    "A = [1, 6, 4, 2, 6, 9]\n",
    "B = [2, 5, 7, 3, 2, 7]\n",
    "\n",
    "minSum = sys.maxsize\n",
    "for q in range(1, len(A)-1):\n",
    "    minP = sys.maxsize\n",
    "    for p in range(0, q):\n",
    "        if A[p] < A[q]: minP = min(minP, B[p]) \n",
    "    \n",
    "    minR = sys.maxsize\n",
    "    for r in range(q+1, len(A)):\n",
    "        if A[q] < A[r]: minR = min(minR, B[r])\n",
    "    \n",
    "    minSum = min(minSum, (minP+B[q]+minR))\n",
    "\n",
    "print(minSum) "
   ]
  },
  {
   "cell_type": "code",
   "execution_count": null,
   "metadata": {},
   "outputs": [],
   "source": []
  }
 ],
 "metadata": {
  "kernelspec": {
   "display_name": "Python 3.10.5 64-bit",
   "language": "python",
   "name": "python3"
  },
  "language_info": {
   "codemirror_mode": {
    "name": "ipython",
    "version": 3
   },
   "file_extension": ".py",
   "mimetype": "text/x-python",
   "name": "python",
   "nbconvert_exporter": "python",
   "pygments_lexer": "ipython3",
   "version": "3.10.5"
  },
  "orig_nbformat": 4,
  "vscode": {
   "interpreter": {
    "hash": "26f5c2960d8da0adf328a0625b5baa11b90d27b056bf00200c457e1accccaeb5"
   }
  }
 },
 "nbformat": 4,
 "nbformat_minor": 2
}
