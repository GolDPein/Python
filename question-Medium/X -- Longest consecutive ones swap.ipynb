{
 "cells": [
  {
   "cell_type": "markdown",
   "metadata": {},
   "source": [
    "Given a binarry array, we can swap atmost one '0' with a '1' from the array.\n",
    "Find max consecutive 1's\n",
    "\n",
    "I/P: [0,0,1,1,0,1,1,0]\n",
    "O/P: 4"
   ]
  },
  {
   "cell_type": "code",
   "execution_count": null,
   "metadata": {},
   "outputs": [],
   "source": []
  }
 ],
 "metadata": {
  "language_info": {
   "name": "python"
  },
  "orig_nbformat": 4
 },
 "nbformat": 4,
 "nbformat_minor": 2
}
