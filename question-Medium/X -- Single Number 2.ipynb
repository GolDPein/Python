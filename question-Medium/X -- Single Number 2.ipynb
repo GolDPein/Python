{
 "cells": [
  {
   "cell_type": "markdown",
   "metadata": {},
   "source": [
    "Problem Description\n",
    "Given an array of positive integers A, two integers appear only once, and all the other integers appear twice.\n",
    "Find the two integers that appear only once.\n",
    "\n",
    "Note: Return the two numbers in ascending order."
   ]
  },
  {
   "cell_type": "code",
   "execution_count": null,
   "metadata": {},
   "outputs": [],
   "source": []
  }
 ],
 "metadata": {
  "language_info": {
   "name": "python"
  },
  "orig_nbformat": 4
 },
 "nbformat": 4,
 "nbformat_minor": 2
}
