{
 "cells": [
  {
   "cell_type": "markdown",
   "metadata": {},
   "source": [
    "https://leetcode.com/problems/happy-number/"
   ]
  },
  {
   "cell_type": "code",
   "execution_count": 17,
   "metadata": {},
   "outputs": [],
   "source": [
    "n = 2"
   ]
  },
  {
   "cell_type": "code",
   "execution_count": 18,
   "metadata": {
    "vscode": {
     "languageId": "markdown"
    }
   },
   "outputs": [
    {
     "name": "stdout",
     "output_type": "stream",
     "text": [
      "Current Number: 2\n",
      "Current Set: {2}\n",
      "----------------\n",
      "Current Number: 4\n",
      "Current Set: {2, 4}\n",
      "----------------\n",
      "Current Number: 16\n",
      "Current Set: {16, 2, 4}\n",
      "----------------\n",
      "Current Number: 37\n",
      "Current Set: {16, 2, 4, 37}\n",
      "----------------\n",
      "Current Number: 58\n",
      "Current Set: {2, 4, 37, 16, 58}\n",
      "----------------\n",
      "Current Number: 89\n",
      "Current Set: {2, 4, 37, 16, 89, 58}\n",
      "----------------\n",
      "Current Number: 145\n",
      "Current Set: {2, 4, 37, 16, 145, 89, 58}\n",
      "----------------\n",
      "Current Number: 42\n",
      "Current Set: {2, 4, 37, 42, 16, 145, 89, 58}\n",
      "----------------\n",
      "Current Number: 20\n",
      "Current Set: {2, 4, 37, 42, 16, 145, 20, 89, 58}\n",
      "Current Number: 4\n",
      "Loop Found\n"
     ]
    }
   ],
   "source": [
    "hsN = { n }\n",
    "while n != 1:\n",
    "    print(\"Current Number:\", n)\n",
    "    print(\"Current Set:\", hsN)\n",
    "    num = n\n",
    "    sumN = 0\n",
    "\n",
    "    while num > 0:\n",
    "        sumN += (num % 10) ** 2\n",
    "        num = num // 10\n",
    "\n",
    "    n = sumN\n",
    "    if n == 1:\n",
    "        print(True)\n",
    "        break\n",
    "\n",
    "    if n in hsN: \n",
    "        print(\"Current Number:\", n)\n",
    "        print(\"Loop Found\")\n",
    "        break\n",
    "    else: hsN.add(n)\n",
    "\n",
    "    print(\"----------------\")"
   ]
  },
  {
   "cell_type": "code",
   "execution_count": 7,
   "metadata": {
    "vscode": {
     "languageId": "markdown"
    }
   },
   "outputs": [
    {
     "name": "stdout",
     "output_type": "stream",
     "text": [
      "{14}\n"
     ]
    }
   ],
   "source": [
    "n = 14\n",
    "s = { n }\n",
    "print(s)"
   ]
  },
  {
   "cell_type": "code",
   "execution_count": null,
   "metadata": {
    "vscode": {
     "languageId": "markdown"
    }
   },
   "outputs": [],
   "source": []
  }
 ],
 "metadata": {
  "kernelspec": {
   "display_name": "Python 3.10.5 64-bit",
   "language": "python",
   "name": "python3"
  },
  "language_info": {
   "codemirror_mode": {
    "name": "ipython",
    "version": 3
   },
   "file_extension": ".py",
   "mimetype": "text/x-python",
   "name": "python",
   "nbconvert_exporter": "python",
   "pygments_lexer": "ipython3",
   "version": "3.10.5"
  },
  "orig_nbformat": 4,
  "vscode": {
   "interpreter": {
    "hash": "26f5c2960d8da0adf328a0625b5baa11b90d27b056bf00200c457e1accccaeb5"
   }
  }
 },
 "nbformat": 4,
 "nbformat_minor": 2
}
