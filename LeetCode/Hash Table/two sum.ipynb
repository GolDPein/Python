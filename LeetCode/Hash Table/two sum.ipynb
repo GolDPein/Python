{
 "cells": [
  {
   "cell_type": "markdown",
   "metadata": {},
   "source": [
    "https://leetcode.com/problems/two-sum/"
   ]
  },
  {
   "cell_type": "code",
   "execution_count": 6,
   "metadata": {},
   "outputs": [],
   "source": [
    "nums = [7, 2, 7, 11, 15]\n",
    "target = 9"
   ]
  },
  {
   "cell_type": "code",
   "execution_count": 7,
   "metadata": {},
   "outputs": [
    {
     "name": "stdout",
     "output_type": "stream",
     "text": [
      "{}\n",
      "Difference of Target 9 and 7 = 2\n",
      "{7: 0}\n",
      "Difference of Target 9 and 2 = 7\n",
      "[0, 1]\n",
      "{7: 0, 2: 1}\n",
      "Difference of Target 9 and 7 = 2\n",
      "[1, 2]\n",
      "{7: 0, 2: 1}\n",
      "Difference of Target 9 and 11 = -2\n",
      "{7: 0, 2: 1, 11: 3}\n",
      "Difference of Target 9 and 15 = -6\n"
     ]
    }
   ],
   "source": [
    "dNums = {}\n",
    "for i in range(len(nums)):\n",
    "    print(dNums)\n",
    "    diff = target - nums[i]\n",
    "    print(\"Difference of Target %s and %s = %s\"%(target, nums[i], diff))\n",
    "    if diff in dNums:\n",
    "        print( [ dNums[diff] , i ] )\n",
    "    \n",
    "    if nums[i] not in dNums: dNums[nums[i]] = i"
   ]
  },
  {
   "cell_type": "code",
   "execution_count": 8,
   "metadata": {},
   "outputs": [
    {
     "data": {
      "text/plain": [
       "{7: 0, 2: 1, 11: 3, 15: 4}"
      ]
     },
     "execution_count": 8,
     "metadata": {},
     "output_type": "execute_result"
    }
   ],
   "source": [
    "dNums"
   ]
  },
  {
   "cell_type": "code",
   "execution_count": null,
   "metadata": {},
   "outputs": [],
   "source": []
  }
 ],
 "metadata": {
  "kernelspec": {
   "display_name": "Python 3.10.5 64-bit",
   "language": "python",
   "name": "python3"
  },
  "language_info": {
   "codemirror_mode": {
    "name": "ipython",
    "version": 3
   },
   "file_extension": ".py",
   "mimetype": "text/x-python",
   "name": "python",
   "nbconvert_exporter": "python",
   "pygments_lexer": "ipython3",
   "version": "3.10.5"
  },
  "orig_nbformat": 4,
  "vscode": {
   "interpreter": {
    "hash": "26f5c2960d8da0adf328a0625b5baa11b90d27b056bf00200c457e1accccaeb5"
   }
  }
 },
 "nbformat": 4,
 "nbformat_minor": 2
}
