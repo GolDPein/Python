{
 "cells": [
  {
   "cell_type": "markdown",
   "metadata": {},
   "source": [
    "https://leetcode.com/problems/majority-element/"
   ]
  },
  {
   "cell_type": "code",
   "execution_count": 1,
   "metadata": {},
   "outputs": [],
   "source": [
    "nums = [2,2,1,1,1,2,2]"
   ]
  },
  {
   "cell_type": "code",
   "execution_count": 2,
   "metadata": {},
   "outputs": [
    {
     "name": "stdout",
     "output_type": "stream",
     "text": [
      "2\n"
     ]
    }
   ],
   "source": [
    "# Hash Map Approach\n",
    "\n",
    "hNums = {}\n",
    "for n in nums:\n",
    "    if n in hNums: hNums[n] += 1\n",
    "    else: hNums[n] = 1\n",
    "    \n",
    "majorityThreshold = len(nums) // 2\n",
    "\n",
    "for key in hNums:\n",
    "    if hNums[key] > majorityThreshold: print(key)\n",
    "    \n",
    "# incase of function / method if nothing is returned then we return 0\n",
    "# TC = O(n)\n",
    "# SC = O(n)"
   ]
  },
  {
   "cell_type": "code",
   "execution_count": 10,
   "metadata": {},
   "outputs": [],
   "source": [
    "nums = [2,2,1,1,2,1,3,2,2]"
   ]
  },
  {
   "cell_type": "code",
   "execution_count": 11,
   "metadata": {},
   "outputs": [
    {
     "name": "stdout",
     "output_type": "stream",
     "text": [
      "2\n",
      "True\n"
     ]
    }
   ],
   "source": [
    "# SC: O(1) approach\n",
    "\n",
    "majorityThreshold = len(nums) // 2\n",
    "count = 0\n",
    "maxEle = ''\n",
    "\n",
    "for i in range(len(nums)):\n",
    "    if count == 0: maxEle = nums[i]\n",
    "    \n",
    "    if nums[i] == maxEle: count += 1\n",
    "    else: count -= 1\n",
    "\n",
    "print(maxEle)\n",
    "\n",
    "count = 0\n",
    "for i in range(len(nums)):\n",
    "    if nums[i] == maxEle: count += 1\n",
    "\n",
    "if count > majorityThreshold: print(True)\n",
    "\n",
    "# This approach has less Space Compelxity\n",
    "# But if we think about the number of iteration then\n",
    "# it has more iteration than Hash Map approach though TC remains the same"
   ]
  },
  {
   "cell_type": "code",
   "execution_count": null,
   "metadata": {},
   "outputs": [],
   "source": []
  }
 ],
 "metadata": {
  "kernelspec": {
   "display_name": "Python 3.10.5 64-bit",
   "language": "python",
   "name": "python3"
  },
  "language_info": {
   "codemirror_mode": {
    "name": "ipython",
    "version": 3
   },
   "file_extension": ".py",
   "mimetype": "text/x-python",
   "name": "python",
   "nbconvert_exporter": "python",
   "pygments_lexer": "ipython3",
   "version": "3.10.5"
  },
  "orig_nbformat": 4,
  "vscode": {
   "interpreter": {
    "hash": "26f5c2960d8da0adf328a0625b5baa11b90d27b056bf00200c457e1accccaeb5"
   }
  }
 },
 "nbformat": 4,
 "nbformat_minor": 2
}
